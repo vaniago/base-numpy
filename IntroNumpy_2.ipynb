{
  "nbformat": 4,
  "nbformat_minor": 0,
  "metadata": {
    "colab": {
      "name": "IntroNumpy_2.ipynb",
      "provenance": [],
      "collapsed_sections": [],
      "authorship_tag": "ABX9TyMsx6suc+PxUCT2n63DeaG3",
      "include_colab_link": true
    },
    "kernelspec": {
      "name": "python3",
      "display_name": "Python 3"
    },
    "language_info": {
      "name": "python"
    }
  },
  "cells": [
    {
      "cell_type": "markdown",
      "metadata": {
        "id": "view-in-github",
        "colab_type": "text"
      },
      "source": [
        "<a href=\"https://colab.research.google.com/github/vaniago/base-numpy/blob/main/IntroNumpy_2.ipynb\" target=\"_parent\"><img src=\"https://colab.research.google.com/assets/colab-badge.svg\" alt=\"Open In Colab\"/></a>"
      ]
    },
    {
      "cell_type": "markdown",
      "metadata": {
        "id": "UufHifQCteSA"
      },
      "source": [
        "#Vetorização"
      ]
    },
    {
      "cell_type": "markdown",
      "metadata": {
        "id": "8hasX5xidsy9"
      },
      "source": [
        "##A difícil vida dos loops em Python e a solução de Numpy\n",
        "\n",
        "A tipagem dinâmica é uma das características mais interessantes de Python, mas ela possui um custo: os loops em Python se tornam lentos, porque a cada iteração o intepretador continua tendo que checar os tipos dos elementos da sequência.\n",
        "\n",
        "Como vimos nas classes *numpy.ndarray* e *numpy.dtype*, as matrizes de Numpy são, efetivamente, tipadas e, portanto, as operações sobre os *ndarrays* podem ser mais velozes.\n",
        "\n",
        "##Vetorização\n",
        "Quando aprendemos a trabalhar com matrizes e iterações sobre matrizes, recaímos no clássico aninhamento de loops, para percorrer as linhas e colunas das matrizes.\n",
        "\n",
        "A *vetorização* consiste numa forma de implementar uma linguagem de programação tal que seja possível realizar operações de matriz sobre matriz, sem precisar explicitar esses loops.\n",
        "\n",
        "Considere o exemplo em que temos duas listas de números e queremos somar os seus valores.\n",
        "\n",
        "Em Python simples, faríamos assim:"
      ]
    },
    {
      "cell_type": "code",
      "metadata": {
        "colab": {
          "base_uri": "https://localhost:8080/"
        },
        "id": "0j9qifvjfEIx",
        "outputId": "272ab209-46b5-49a5-970c-3710a858fed2"
      },
      "source": [
        "lista1=[0,2,4,6,8]\n",
        "lista2=[9,7,5,3,1]\n",
        "soma=list()\n",
        "for i in range(len(lista1)):\n",
        "   soma.append(lista1[i]+lista2[i])\n",
        "print(soma)    "
      ],
      "execution_count": null,
      "outputs": [
        {
          "output_type": "stream",
          "name": "stdout",
          "text": [
            "[9, 9, 9, 9, 9]\n"
          ]
        }
      ]
    },
    {
      "cell_type": "markdown",
      "metadata": {
        "id": "TJsbQvwDf00g"
      },
      "source": [
        "Porém, Numpy nos dá uma abordagem mais rápida:"
      ]
    },
    {
      "cell_type": "code",
      "metadata": {
        "colab": {
          "base_uri": "https://localhost:8080/"
        },
        "id": "c2Ys03G4f6ER",
        "outputId": "7fe7208e-07f9-4afd-bf49-6e1606b08b64"
      },
      "source": [
        "import numpy as np\n",
        "l1=[0,2,4,6,8]\n",
        "l2=[9,7,5,3,1]\n",
        "a1=np.asarray(l1)\n",
        "a2=np.asarray(l2)\n",
        "soma=a1+a2\n",
        "print(soma)\n"
      ],
      "execution_count": null,
      "outputs": [
        {
          "output_type": "stream",
          "name": "stdout",
          "text": [
            "[9 9 9 9 9]\n"
          ]
        }
      ]
    },
    {
      "cell_type": "markdown",
      "metadata": {
        "id": "Iip6UCJRgY3H"
      },
      "source": [
        "*Vetorizar* é aplicar uma função diretamente sobre todos os valores de uma matriz ao mesmo tempo, em vez de aplicar a função elemento por elemento da matriz."
      ]
    },
    {
      "cell_type": "code",
      "metadata": {
        "colab": {
          "base_uri": "https://localhost:8080/"
        },
        "id": "WrnJ-2-egzSq",
        "outputId": "a561a2dd-4d5d-4e46-9f57-77f10c11fa4b"
      },
      "source": [
        "import numpy as np\n",
        "l1=[0,2,4,6,8]\n",
        "l2=[9,7,5,3,1]\n",
        "a1=np.asarray(l1)\n",
        "a2=np.asarray(l2)\n",
        "\n",
        "def por_elemento(lista1,lista2):\n",
        "  soma=list()\n",
        "  for i in range(len(lista1)):\n",
        "     soma.append(lista1[i]+lista2[i])\n",
        "  return soma\n",
        "\n",
        "def vetorizado(a1,a2):\n",
        "  soma=a1+a2\n",
        "  return soma\n",
        "\n",
        "%timeit -n 10000 -r 5 por_elemento(l1,l2)\n",
        "%timeit -n 10000 -r 5 vetorizado(a1,a2)"
      ],
      "execution_count": null,
      "outputs": [
        {
          "output_type": "stream",
          "name": "stdout",
          "text": [
            "10000 loops, best of 5: 1.23 µs per loop\n",
            "10000 loops, best of 5: 623 ns per loop\n"
          ]
        }
      ]
    },
    {
      "cell_type": "markdown",
      "metadata": {
        "id": "lWRvW1rrjG69"
      },
      "source": [
        "#Nota: *timeit*\n",
        "\n",
        "No interpretador IPyhton, que é usado no **colab*, tal como no *jupyter notebook*, temos os *magic commands*, que iniciam por '%'.\n",
        "\n",
        "No caso, *timeit* mede o tempo de execução de um comando, com as opções:    \n",
        "* -n<N>: executa o comando N vezes dentro de um loop de teste;\n",
        "\n",
        "* -r<R>: número de repetições é R, default é 7.\n",
        "\n",
        "* -t: o tempo é medido pela função *time.time*, default em Unix.\n",
        "\n",
        "* -c: o tempo é medido pela função *time.clock*, default em Windows.\n",
        "\n",
        "* -p<P>: os diígitos são apresentados com a precisão <P>, default é 3.\n",
        "\n",
        "* -q: quiet. Não mostra resultados\n",
        "\n",
        "* -o: retorna um TimeitResult que pode ser armazenado numa variável.\n",
        "\n",
        "Mais sobre *magic commands* no intepretador IPython:    \n",
        "[IPython documentation: Built-in magic commands](https://ipython.readthedocs.io/en/stable/interactive/magics.html)"
      ]
    },
    {
      "cell_type": "markdown",
      "metadata": {
        "id": "eReAlf3bk8xz"
      },
      "source": [
        "#*ufuncs*: funções universais vetorizadas\n",
        "\n",
        "Conforme o número de parâmetros podem ser:    \n",
        "* unárias: aplicam-se sobre uma matriz;\n",
        "* binárias: aplicam-se a mais de uma matriz.\n",
        "\n",
        "##ufuncs unárias\n",
        "\n"
      ]
    },
    {
      "cell_type": "markdown",
      "metadata": {
        "id": "HLwfbRyAoO9X"
      },
      "source": [
        "| Função                                        | Descrição                                          |\n",
        "|-----------------------------------------------|----------------------------------------------------|\n",
        "| abs, fabs                                     | valor absoluto                                     |\n",
        "| sqrt                                          | raiz quadrada                                      |\n",
        "| square                                        | o quadrado                                         |\n",
        "| exp                                           | exponencial                                        |\n",
        "| log,log10,log2,log1p                          | logaritmo natural, base 10, base 2, base (1+x)     |\n",
        "| sign                                          | sinal do elemento                                  |\n",
        "| ceil                                          | 'teto', o menor inteiro maior ou igual ao valor    |\n",
        "| floor                                         | 'piso', o maior inteiro menor ou igual ao valor    |\n",
        "| rint                                          | arredonda para o próximo inteiro, preserva o dtype |\n",
        "| isnan                                         | retorna array dizendo se e NaN                     |\n",
        "| isfinite, isinf                               | retorna array dizendo se e finito, se e infinito   |\n",
        "| sin, cos, tan, sinh, cosh, tanh               | funções trigonométricas                            |\n",
        "| arcsin, arccos,arctan,arcsinh,arccosh,arctanh | funções trigonométricas inversas                   |\n",
        "| logical_not                                   | retorna not(valor)                                 |"
      ]
    },
    {
      "cell_type": "markdown",
      "metadata": {
        "id": "uN7njzfIob21"
      },
      "source": [
        "##Exemplos"
      ]
    },
    {
      "cell_type": "code",
      "metadata": {
        "colab": {
          "base_uri": "https://localhost:8080/"
        },
        "id": "93MpjAB-odnl",
        "outputId": "ccec9166-60e5-4bcc-8645-5d3b57657271"
      },
      "source": [
        "import numpy as np\n",
        "l1=[0,2,4,6,8]\n",
        "l2=[9,-7,5,-3,1]\n",
        "\n",
        "a1=np.asarray(l1)\n",
        "a2=np.asarray(l2)\n",
        "\n",
        "print(a1)\n",
        "print(a2)\n",
        "\n",
        "print(np.square(a2))\n",
        "print(np.sign(a2))\n",
        "print(np.logical_not(a1))"
      ],
      "execution_count": null,
      "outputs": [
        {
          "output_type": "stream",
          "name": "stdout",
          "text": [
            "[0 2 4 6 8]\n",
            "[ 9 -7  5 -3  1]\n",
            "[81 49 25  9  1]\n",
            "[ 1 -1  1 -1  1]\n",
            "[ True False False False False]\n"
          ]
        }
      ]
    },
    {
      "cell_type": "markdown",
      "metadata": {
        "id": "MIW4j996pZPU"
      },
      "source": [
        "##ufuncs binárias"
      ]
    },
    {
      "cell_type": "markdown",
      "metadata": {
        "id": "B_OE5AcFpcBK"
      },
      "source": [
        "| Funçao                                                     | Descriçao                                                    |\n",
        "|------------------------------------------------------------|--------------------------------------------------------------|\n",
        "| add                                                        | adição                                                       |\n",
        "| subtract                                                   | subtração                                                    |\n",
        "| multiply                                                   | multiplicação                                                |\n",
        "| divide                                                     | divisão                                                      |\n",
        "| floor_divide                                               | divisao inteira                                              |\n",
        "| power                                                      | potenciação                                                  |\n",
        "| maximum, fmax                                              | maior entre os elementos                                     |\n",
        "| minimum, fmin                                              | menor entre os elementos                                     |\n",
        "| mod                                                        | módulo, o resto da divisão                                  |\n",
        "| copysign                                                   | copia o sinal dos elementos do segundo array para o primeiro |\n",
        "| greater, less, equal, greater_equal, less_equal, not_equal | operadores de comparação entre elementos                     |\n",
        "| logical_and, logical_or, logical_xor                       | operadores lógicos entre elementos                           |"
      ]
    },
    {
      "cell_type": "markdown",
      "metadata": {
        "id": "CuiGl-fmrNjv"
      },
      "source": [
        "##Exemplos:   "
      ]
    },
    {
      "cell_type": "code",
      "metadata": {
        "colab": {
          "base_uri": "https://localhost:8080/"
        },
        "id": "6uFagHHIrQ5x",
        "outputId": "e9320bf4-0142-49c3-e906-c8ef6d102f99"
      },
      "source": [
        "import numpy as np\n",
        "l1=[0,2,4,6,8]\n",
        "l2=[9,-7,5,-3,1]\n",
        "a1=np.asarray(l1)\n",
        "a2=np.asarray(l2)\n",
        "\n",
        "print(a1)\n",
        "print(a2)\n",
        "\n",
        "print(np.power(a2,4))\n",
        "print(np.divide(a1,a2))\n",
        "print(np.divide(a2,a1))\n",
        "print(np.logical_and(a1,a2))"
      ],
      "execution_count": null,
      "outputs": [
        {
          "output_type": "stream",
          "name": "stdout",
          "text": [
            "[0 2 4 6 8]\n",
            "[ 9 -7  5 -3  1]\n",
            "[6561 2401  625   81    1]\n",
            "[ 0.         -0.28571429  0.8        -2.          8.        ]\n",
            "[   inf -3.5    1.25  -0.5    0.125]\n",
            "[False  True  True  True  True]\n"
          ]
        },
        {
          "output_type": "stream",
          "name": "stderr",
          "text": [
            "/usr/local/lib/python3.7/dist-packages/ipykernel_launcher.py:12: RuntimeWarning: divide by zero encountered in true_divide\n",
            "  if sys.path[0] == '':\n"
          ]
        }
      ]
    },
    {
      "cell_type": "markdown",
      "metadata": {
        "id": "6gw0AW45tjeA"
      },
      "source": [
        "# *numpy.where()* - condicionais em arrays"
      ]
    },
    {
      "cell_type": "markdown",
      "metadata": {
        "id": "rHAj3XGktvwu"
      },
      "source": [
        "É possível aplicar expressões condicionais com a função vetorizada *numpy.where()*, que tem a forma:     \n",
        "`numpy.where(condição, array1, array2)`\n",
        "\n",
        "De modo que, para a condição:    \n",
        "* verdadeira: retorna o valor de array1\n",
        "* falsa: retorna o valor de array2\n",
        "\n",
        "##Exemplo:\n",
        "\n"
      ]
    },
    {
      "cell_type": "code",
      "metadata": {
        "colab": {
          "base_uri": "https://localhost:8080/"
        },
        "id": "Rm10iVcRtuzA",
        "outputId": "a54ddebe-f569-419e-a5a7-96a067530c8e"
      },
      "source": [
        "import numpy as np\n",
        "l1=[0,2,4,6,8]\n",
        "l2=[9,-7,5,-3,1]\n",
        "a1=np.asarray(l1)\n",
        "a2=np.asarray(l2)\n",
        "print(\"a1= \",a1)\n",
        "print(\"\\na2= \",a2)\n",
        "\n",
        "print(\"\\nFazendo: r1=np.where(a1>a2,a1,a2)\")\n",
        "r1=np.where(a1>a2,a1,a2)\n",
        "print(r1)\n",
        "\n",
        "\n",
        "print(\"\\nFazendo: r2=np.where(a1>a2,0,a2)\")\n",
        "r2=np.where(a1>a2,0,a2)\n",
        "print(r2)\n",
        "\n",
        "print(\"\\nFazendo: r3=np.where(a1>a2,1,-1)\")\n",
        "r3=np.where(a1>a2,1,-1)\n",
        "print(r3)\n"
      ],
      "execution_count": null,
      "outputs": [
        {
          "output_type": "stream",
          "name": "stdout",
          "text": [
            "a1=  [0 2 4 6 8]\n",
            "\n",
            "a2=  [ 9 -7  5 -3  1]\n",
            "\n",
            "Fazendo: r1=np.where(a1>a2,a1,a2)\n",
            "[9 2 5 6 8]\n",
            "\n",
            "Fazendo: r2=np.where(a1>a2,0,a2)\n",
            "[9 0 5 0 0]\n",
            "\n",
            "Fazendo: r3=np.where(a1>a2,1,-1)\n",
            "[-1  1 -1  1  1]\n"
          ]
        }
      ]
    }
  ]
}