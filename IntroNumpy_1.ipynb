{
  "nbformat": 4,
  "nbformat_minor": 0,
  "metadata": {
    "colab": {
      "name": "IntroNumpy_1.ipynb",
      "provenance": [],
      "collapsed_sections": [
        "NaU2nzoCAEhA",
        "PEPT0VgvBCIP",
        "bUvDmFBhEYfZ"
      ],
      "authorship_tag": "ABX9TyNCOUFS1Ym9ejGu3jprxJyv",
      "include_colab_link": true
    },
    "kernelspec": {
      "display_name": "Python 3",
      "name": "python3"
    },
    "language_info": {
      "name": "python"
    }
  },
  "cells": [
    {
      "cell_type": "markdown",
      "metadata": {
        "id": "view-in-github",
        "colab_type": "text"
      },
      "source": [
        "<a href=\"https://colab.research.google.com/github/vaniago/base-numpy/blob/main/IntroNumpy_1.ipynb\" target=\"_parent\"><img src=\"https://colab.research.google.com/assets/colab-badge.svg\" alt=\"Open In Colab\"/></a>"
      ]
    },
    {
      "cell_type": "markdown",
      "metadata": {
        "id": "FVcW6p6_9Mcd"
      },
      "source": [
        "#Fundamentos de Numpy"
      ]
    },
    {
      "cell_type": "markdown",
      "metadata": {
        "id": "MgbgpPYV7_Mn"
      },
      "source": [
        "##Motivação para se criar Numpy"
      ]
    },
    {
      "cell_type": "markdown",
      "metadata": {
        "id": "JB9uUYwL7T53"
      },
      "source": [
        "O propósito de Numpy é prover recursos para computação numérica,\n",
        "algébrica e matricial para Python. A motivação está no fato de que era\n",
        "preciso complementar as estruturas de dados originais de Python com uma\n",
        "nova estrutura que tivesse as seguintes características:\n",
        "\n",
        "-   fosse orientada a operações numéricas;\n",
        "\n",
        "-   permitisse a manipulação de mais tipos numéricos que os originais de\n",
        "    Python;\n",
        "\n",
        "-   permitisse um processamento otimizado de operações matemáticas e\n",
        "    algébricas.\n",
        "\n",
        "-   permitisse forte interação com bibliotecas em C e Fortran já\n",
        "    existentes.\n",
        "\n",
        "##A solução proposta\n",
        "Numpy não surgiu de uma hora para outra, mas resulta de uma evolução da\n",
        "comunidade de programação, a partir de diversos pacotes anteriores, como *Numeric* e *Numarray*, dentro do paradigma de desenvolvimento\n",
        "comunitário em computação. \n",
        "\n",
        "\n",
        "Basicamente, temos dois acréscimos\n",
        "importantes a Python feitos por Numpy: \n",
        "- foi criada uma classe chamada\n",
        "ndarray - n-dimensional-array- que vamos aqui traduzir livremente por\n",
        "vetor de n-dimensões, que, em termos matemáticos, implementa vetores\n",
        "unidimensionais e matrizes de n dimensões, que contêm itens de mesmo\n",
        "tipo e tamanho, orientados principalmente a valores numéricos;\n",
        "- ao lado\n",
        "dessa classe estrutural, foram definidos novos tipos numéricos - que,\n",
        "como sabemos, em Python também são classes - que contemplam maior\n",
        "variedade de possibilidades de representação no ambiente dos vetores.\n",
        "\n",
        "Desse modo, temos uma estrutura coletiva orientada a valores numéricos -\n",
        "a ndarray - e diversas formas numéricas para preencher essa estrutura.\n",
        "Com isso, contempla-se um conjunto mais amplo de necessidades de\n",
        "computação numérica."
      ]
    },
    {
      "cell_type": "markdown",
      "metadata": {
        "id": "0xUgUtNQFKWw"
      },
      "source": [
        "##Nomenclatura: array, vetor, matriz, lista, dataframe\n",
        "\n",
        "##array\n",
        "Para a maioria das linguagens de programação, é uma sequência ou série de valores, podendo ter *n* dimensões.\n",
        "Dependendo da dimensão, também traduzimos *array* por matriz ou vetor.\n",
        "\n",
        "##vetor\n",
        "Em álgebra linear e algumas linguagens de programação, é uma série de valores de mesmo tipo, com uma dimensão.\n",
        "\n",
        "##matriz\n",
        "Em álgebra linear e algumas linguagens de programação, é uma série de valores de mesmo tipo, com uma ou mais de uma dimensão. \n",
        "\n",
        "Em português usamos matrizes também para n-dimensões, dizendo matriz *m x n x p x...*. Um vetor é uma matriz *m x 1* ou *1 x n*.\n",
        "\n",
        "##lista\n",
        "Em diversas linguagens de programação, uma série de valores que pode ser de qualquer tipo, inclusive outras listas.\n",
        "\n",
        "##dataframe\n",
        "Em muitas linguagens de programação, uma estrutura bidimensional, com linhas e colunas, em que as colunas podem ter nomes ou rótulos.\n",
        " \n",
        "O mesmo que uma tabela."
      ]
    },
    {
      "cell_type": "markdown",
      "metadata": {
        "id": "upS1C0Y79pd8"
      },
      "source": [
        "#Vetores e matrizes: a classe *ndarray*"
      ]
    },
    {
      "cell_type": "markdown",
      "metadata": {
        "id": "rmQU5eVzsM1z"
      },
      "source": [
        "##Definição da classe *ndarray*\n",
        "\n",
        "Um objeto *ndarray* é:\n",
        "- uma tabela de elementos homogêneos, i.e., todos do mesmo\n",
        "tipo, \n",
        "- indexada por uma tupla de inteiros não-negativos que indicam suas\n",
        "dimensões.\n",
        "\n",
        "As dimensões são também chamadas de *eixos*.\n",
        "\n",
        "Existem vários modos de instanciar um objeto da classe ndarray, mas a principal é pelo construtor básico *numpy.ndarray()*, que exige como único parâmetro obrigatório a tupla com as dimensões da matriz, que é o parâmetro *shape*.\n",
        "\n",
        "Por exemplo, vamos criar uma matriz 3x2:\n",
        "\n"
      ]
    },
    {
      "cell_type": "code",
      "metadata": {
        "colab": {
          "base_uri": "https://localhost:8080/"
        },
        "id": "SGz9Zhj_uX9K",
        "outputId": "89fab809-2712-4d64-cd21-7d74307e4bbe"
      },
      "source": [
        "import numpy as np\n",
        "matriz=np.ndarray((3,2))\n",
        "print(matriz)"
      ],
      "execution_count": null,
      "outputs": [
        {
          "name": "stdout",
          "output_type": "stream",
          "text": [
            "[[4.67062094e-310 0.00000000e+000]\n",
            " [0.00000000e+000 0.00000000e+000]\n",
            " [0.00000000e+000 0.00000000e+000]]\n"
          ]
        }
      ]
    },
    {
      "cell_type": "markdown",
      "metadata": {
        "id": "1eGGJwMNum3m"
      },
      "source": [
        "A matriz foi criada com valores quaisquer, pois não demos outros parâmetros para o construtor *ndarray*.\n",
        "\n",
        "Experimente agora criar uma matriz 2x7:"
      ]
    },
    {
      "cell_type": "code",
      "metadata": {
        "colab": {
          "base_uri": "https://localhost:8080/"
        },
        "id": "ZHz4F8wOu3Zc",
        "outputId": "1ce7ca1a-2317-4595-dada-af27ed1be4c5"
      },
      "source": [
        "import numpy as np #não seria necessário, importado acima\n",
        "\n",
        "matriz= 0 #substitua zero pelo seu código\n",
        "print(matriz)"
      ],
      "execution_count": null,
      "outputs": [
        {
          "name": "stdout",
          "output_type": "stream",
          "text": [
            "0\n"
          ]
        }
      ]
    },
    {
      "cell_type": "code",
      "metadata": {
        "id": "p6xUMzzHvHfs"
      },
      "source": [
        "#@title Precisa de uma dica? Clique aqui.\n",
        "matriz=np.ndarray((2,7))\n",
        "print(matriz)"
      ],
      "execution_count": null,
      "outputs": []
    },
    {
      "cell_type": "markdown",
      "metadata": {
        "id": "ByH1qUP2_cPU"
      },
      "source": [
        "##Atributos de ndarray\n",
        "Um objeto ndarray possui os seguintes atributos:\n",
        "\n",
        "| Atributo         | Uso                                                                                                                          |\n",
        "|:-----------------|:-----------------------------------------------------------------------------------------------------------------------------|\n",
        "| ndarray.ndim     | número de dimensões do vetor                                                                                                 |\n",
        "| ndarray.shape    | uma tupla de inteiros que indica o tamanho de cada dimensão do vetor                                                         |\n",
        "| ndarray.size     | total de elementos presentes no vetor, é o produto dos elementos de shape                                                    |\n",
        "| ndarray.dtype    | objeto que descreve o tipo dos elementos do vetor, sejam eles originais do Python ou os próprios de Numpy.                   |\n",
        "| ndarray.itemsize | tamanho em bytes do elemento do vetor.                                                                                       |\n",
        "| ndarray.data     | o buffer que contém efetivamente os elementos no vetor. Porém, em geral, os elementos do vetor são acessados pela indexação. |\n",
        "| ndarray.T        | a transposição do vetor ou matriz transposta.                                                                                |\n",
        "| ndarray.flat     | converte o vetor em um vetor de uma dimensão, para atuar como iterador.                                                      |\n",
        "| ndarray.imag     | parte imaginária do vetor.                                                                                                   |\n",
        "| ndarray.real     | parte real do vetor.                                                                                                         |\n",
        "| ndarray.nbytes   | total de bytes ocupado pelo vetor.                                                                                           |\n",
        "| ndarray.strides  | tupla de bytes que indicam o passo para atravessar cada dimensão do vetor.                                                   |\n",
        "| ndarray.ctypes   | objeto que facilita a interação com o módulo ctypes.                                                                         |\n",
        "| ndarray.base     | se o conteúdo vem de outro objeto, indica o endereço-base desse objeto.                                                      |\n"
      ]
    },
    {
      "cell_type": "markdown",
      "metadata": {
        "id": "cCLCyNILxK6i"
      },
      "source": [
        "##Construtor básico\n",
        "**class numpy.ndarray(shape, dtype=float, buffer=None, offset=0,\n",
        "strides=None, order=None)**\n",
        "\n",
        "<table>\n",
        "<caption>Parâmetros do construtor de classe ndarray</caption>\n",
        "<thead>\n",
        "<tr class=\"header\">\n",
        "<th style=\"text-align: left;\">Parâmetro</th>\n",
        "<th style=\"text-align: left;\">Uso</th>\n",
        "</tr>\n",
        "</thead>\n",
        "<tbody>\n",
        "<tr class=\"odd\">\n",
        "<td style=\"text-align: left;\">shape</td>\n",
        "<td style=\"text-align: left;\">obrigatório: a tupla com as dimensões do vetor.</td>\n",
        "</tr>\n",
        "<tr class=\"even\">\n",
        "<td style=\"text-align: left;\">dtype</td>\n",
        "<td style=\"text-align: left;\">o tipo único dos elementos do vetor.</td>\n",
        "</tr>\n",
        "<tr class=\"odd\">\n",
        "<td style=\"text-align: left;\">buffer</td>\n",
        "<td style=\"text-align: left;\">buffer que permite inserção de dados no vetor.</td>\n",
        "</tr>\n",
        "<tr class=\"even\">\n",
        "<td style=\"text-align: left;\">offset</td>\n",
        "<td style=\"text-align: left;\">offset do início dos dados válidos no buffer.</td>\n",
        "</tr>\n",
        "<tr class=\"odd\">\n",
        "<td style=\"text-align: left;\">strides</td>\n",
        "<td style=\"text-align: left;\">tuplas de inteiros, que indicam os passos dentro da memória.</td>\n",
        "</tr>\n",
        "<tr class=\"even\">\n",
        "<td style=\"text-align: left;\">order</td>\n",
        "<td style=\"text-align: left;\">indica ordem da matriz:<br>\n",
        "’C’- segue o modelo das matrizes por linhas em C, ou<br>\n",
        "’F’- segue o modelo de matrizes por colunas em Fortran</td>\n",
        "</tr>\n",
        "</tbody>\n",
        "</table>\n",
        "\n",
        "Já vimos o uso do parâmetro obrigatório *shape*, vamos agora a exemplos com os outros parâmetros."
      ]
    },
    {
      "cell_type": "markdown",
      "metadata": {
        "id": "1tipOTFvyu5H"
      },
      "source": [
        "### parâmetro dtype:\n",
        "\n",
        "Vamos criar uma matriz 4 x 5 de inteiros:\n"
      ]
    },
    {
      "cell_type": "code",
      "metadata": {
        "colab": {
          "base_uri": "https://localhost:8080/"
        },
        "id": "yNDxVANJy5z1",
        "outputId": "dbbf5064-58d7-4a88-93be-8ecad1e2d79e"
      },
      "source": [
        "matriz=np.ndarray((4,5), dtype=int)\n",
        "print(matriz)"
      ],
      "execution_count": null,
      "outputs": [
        {
          "name": "stdout",
          "output_type": "stream",
          "text": [
            "[[94534420374464              0              0              0\n",
            "               0]\n",
            " [             0              0              0              0\n",
            "               0]\n",
            " [             0              0              0              0\n",
            "               0]\n",
            " [             0              0              0              0\n",
            "               0]]\n"
          ]
        }
      ]
    },
    {
      "cell_type": "markdown",
      "metadata": {
        "id": "ibwUAMynzZBu"
      },
      "source": [
        "Mais adiante veremos a classe *dtype*, em que Numpy cria diversos tipos escalares como int8, int16 etc, para indicar precisamente o tipo numérico presente na matriz. \n",
        "Por exemplo, *np.float64* indica um real em ponto flutuante de 64 bits:"
      ]
    },
    {
      "cell_type": "code",
      "metadata": {
        "colab": {
          "base_uri": "https://localhost:8080/"
        },
        "id": "_xt7EQemzwuK",
        "outputId": "cc335f34-c6ed-4441-f40f-cb16a4ce6054"
      },
      "source": [
        "matriz=np.ndarray((2,2),dtype=np.float64)\n",
        "print(matriz)"
      ],
      "execution_count": null,
      "outputs": [
        {
          "name": "stdout",
          "output_type": "stream",
          "text": [
            "[[5.e-324 5.e-324]\n",
            " [5.e-324 0.e+000]]\n"
          ]
        }
      ]
    },
    {
      "cell_type": "markdown",
      "metadata": {
        "id": "qtzInbDr0XJe"
      },
      "source": [
        "Experimente criar uma matriz 3 x 3 com inteiros de 8 bits, usando o dtype *'int8'*:"
      ]
    },
    {
      "cell_type": "code",
      "metadata": {
        "id": "XE7Wa-Xo0fax"
      },
      "source": [
        "matriz= 0 #substitua zero pelo seu código\n",
        "print(matriz)"
      ],
      "execution_count": null,
      "outputs": []
    },
    {
      "cell_type": "code",
      "metadata": {
        "colab": {
          "base_uri": "https://localhost:8080/"
        },
        "id": "icq6oh35TQVL",
        "outputId": "3dd592cf-db0a-459c-b9d4-31eaf0120822"
      },
      "source": [
        "#@title Precisa de ajuda? Clique aqui.\n",
        "matriz=np.ndarray((3,3),dtype=np.int8)\n",
        "print(matriz)\n"
      ],
      "execution_count": null,
      "outputs": [
        {
          "name": "stdout",
          "output_type": "stream",
          "text": [
            "[[ -64   79 -120]\n",
            " [-126   -6   85]\n",
            " [   0    0    0]]\n"
          ]
        }
      ]
    },
    {
      "cell_type": "markdown",
      "metadata": {
        "id": "IGFu7fFj0r0n"
      },
      "source": [
        "### parâmetro buffer:\n",
        "\n",
        "O parâmetro buffer deve ser um objeto da classe **bytes** ou algo que possa\n",
        "ser reconhecido como tal, como um próprio *ndarray*. \n",
        "\n",
        "Vamos a um exemplo:\n",
        "temos uma string na forma de *bytes* é transformada numa matriz\n",
        "de inteiros:"
      ]
    },
    {
      "cell_type": "code",
      "metadata": {
        "colab": {
          "base_uri": "https://localhost:8080/"
        },
        "id": "ltogQnOU1hM6",
        "outputId": "51625308-1e05-4516-8c5e-ab4603d81bf5"
      },
      "source": [
        "sbytes= b\"abcd\"\n",
        "matriz=np.ndarray((2,2),buffer=sbytes,dtype=np.int8)\n",
        "print(matriz)"
      ],
      "execution_count": null,
      "outputs": [
        {
          "name": "stdout",
          "output_type": "stream",
          "text": [
            "[[ 97  98]\n",
            " [ 99 100]]\n"
          ]
        }
      ]
    },
    {
      "cell_type": "markdown",
      "metadata": {
        "id": "GfuyZYZS2ldb"
      },
      "source": [
        "Observe que agora a matriz foi preenchida com os valores inteiros dos bytes (inteiros de 8 bits) correspondentes aos valores ASCII das letras \"abcd\", ou seja: 97, 98, 99 e 100. \n",
        "\n",
        "Se não colocarmos o parâmetro *dtype*, o construtor chama o\n",
        "default que é *float* e **ocorre um erro**, pois aí o buffer tem tamanho\n",
        "insuficiente em bytes para preencher a matriz:"
      ]
    },
    {
      "cell_type": "code",
      "metadata": {
        "colab": {
          "base_uri": "https://localhost:8080/",
          "height": 220
        },
        "id": "vwksqcGk08Ml",
        "outputId": "c2effbca-f9e1-4b19-d0fb-ac6bdc7257ca"
      },
      "source": [
        "import numpy as np\n",
        "\n",
        "sbytes=b\"abcd\"\n",
        "matriz=np.ndarray((2,2),buffer=sbytes) \n",
        "print(matriz)"
      ],
      "execution_count": null,
      "outputs": [
        {
          "ename": "TypeError",
          "evalue": "ignored",
          "output_type": "error",
          "traceback": [
            "\u001b[0;31m---------------------------------------------------------------------------\u001b[0m",
            "\u001b[0;31mTypeError\u001b[0m                                 Traceback (most recent call last)",
            "\u001b[0;32m<ipython-input-7-db43b05fc5b6>\u001b[0m in \u001b[0;36m<module>\u001b[0;34m()\u001b[0m\n\u001b[1;32m      2\u001b[0m \u001b[0;34m\u001b[0m\u001b[0m\n\u001b[1;32m      3\u001b[0m \u001b[0msbytes\u001b[0m\u001b[0;34m=\u001b[0m\u001b[0;34mb\"abcd\"\u001b[0m\u001b[0;34m\u001b[0m\u001b[0;34m\u001b[0m\u001b[0m\n\u001b[0;32m----> 4\u001b[0;31m \u001b[0mmatriz\u001b[0m\u001b[0;34m=\u001b[0m\u001b[0mnp\u001b[0m\u001b[0;34m.\u001b[0m\u001b[0mndarray\u001b[0m\u001b[0;34m(\u001b[0m\u001b[0;34m(\u001b[0m\u001b[0;36m2\u001b[0m\u001b[0;34m,\u001b[0m\u001b[0;36m2\u001b[0m\u001b[0;34m)\u001b[0m\u001b[0;34m,\u001b[0m\u001b[0mbuffer\u001b[0m\u001b[0;34m=\u001b[0m\u001b[0msbytes\u001b[0m\u001b[0;34m)\u001b[0m\u001b[0;34m\u001b[0m\u001b[0;34m\u001b[0m\u001b[0m\n\u001b[0m\u001b[1;32m      5\u001b[0m \u001b[0mprint\u001b[0m\u001b[0;34m(\u001b[0m\u001b[0mmatriz\u001b[0m\u001b[0;34m)\u001b[0m\u001b[0;34m\u001b[0m\u001b[0;34m\u001b[0m\u001b[0m\n",
            "\u001b[0;31mTypeError\u001b[0m: buffer is too small for requested array"
          ]
        }
      ]
    },
    {
      "cell_type": "markdown",
      "metadata": {
        "id": "sDJeTFdQ4D0d"
      },
      "source": [
        "A mensagem *buffer is too small for requested array* acontece porque, por default, o *dtype* é float, como cada float ocupa 8 bytes, o construtor espera um buffer de 32 bytes de tamanho, mas nosso buffer *sbytes* tem apenas 4 bytes, dando erro de tipo.\n",
        "\n",
        "Experimente aumentar o tamanho de sbytes para que ele chegue aos 32 bytes esperados para quatro elementos do tipo float:"
      ]
    },
    {
      "cell_type": "code",
      "metadata": {
        "colab": {
          "base_uri": "https://localhost:8080/"
        },
        "id": "1VctQgiM5AHv",
        "outputId": "8bcb4e53-3763-407d-fc16-7b723d2224fe"
      },
      "source": [
        "sbytes= b\"0123456789abcdef0123456789abcdefg\" #substitua zero pelo seu código\n",
        "matriz=np.ndarray((2,2),buffer=sbytes)\n",
        "print(matriz)"
      ],
      "execution_count": null,
      "outputs": [
        {
          "name": "stdout",
          "output_type": "stream",
          "text": [
            "[[9.95833438e-043 1.81794865e+185]\n",
            " [9.95833438e-043 1.81794865e+185]]\n"
          ]
        }
      ]
    },
    {
      "cell_type": "code",
      "metadata": {
        "cellView": "form",
        "id": "_WiKvp9f5IxV"
      },
      "source": [
        "#@title Precisa de dica? Clique aqui.\n",
        "sbytes= b\"abcdefghijklmnopqrstuvwxyz012345\" #precisa totalizar 32 bytes\n",
        "matriz=np.ndarray((2,2),buffer=sbytes)\n",
        "print(matriz)\n"
      ],
      "execution_count": null,
      "outputs": []
    },
    {
      "cell_type": "markdown",
      "metadata": {
        "id": "EG8Kg_wm6La7"
      },
      "source": [
        "###parâmetro offset\n",
        "O parâmetro offset permite o deslocamento dentro do buffer, para indicar\n",
        "o início da coleta de dados.\n",
        "\n",
        "Por exemplo, dado o buffer b\"abcdefgh\", vamos fazer m1 com os bytes b\"abcd\" e m2 com os bytes b\"efgh\".\n",
        "\n",
        "Com offset=4, começamos a preencher a matriz a partir do 5º elemento do\n",
        "buffer."
      ]
    },
    {
      "cell_type": "code",
      "metadata": {
        "colab": {
          "base_uri": "https://localhost:8080/"
        },
        "id": "lPLE5q7t6tL_",
        "outputId": "a0100aff-1b9f-44ad-d4fb-4e368b9c25a1"
      },
      "source": [
        "sbytes=b\"abcdefgh\"\n",
        "m1=np.ndarray((2,2),buffer=sbytes,dtype=np.int8)\n",
        "m2=np.ndarray((2,2),buffer=sbytes,offset=4,dtype=np.int8)\n",
        "print(\"m1= \",m1)\n",
        "print(\"m2= \",m2)"
      ],
      "execution_count": null,
      "outputs": [
        {
          "name": "stdout",
          "output_type": "stream",
          "text": [
            "m1=  [[ 97  98]\n",
            " [ 99 100]]\n",
            "m2=  [[101 102]\n",
            " [103 104]]\n"
          ]
        }
      ]
    },
    {
      "cell_type": "markdown",
      "metadata": {
        "id": "CSv5_z8R7LW2"
      },
      "source": [
        "Dado o buffer b\"abcdefgh\", experimente criar uma matriz 2 x 2, com os bytes de b\"cdef\":"
      ]
    },
    {
      "cell_type": "code",
      "metadata": {
        "id": "VnmG24TY7Y_N"
      },
      "source": [
        "sbytes= b\"abcdefgh\"\n",
        "m3= 0 #substitua zero pelo seu código\n",
        "print(\"m3= \",m3)"
      ],
      "execution_count": null,
      "outputs": []
    },
    {
      "cell_type": "code",
      "metadata": {
        "cellView": "form",
        "colab": {
          "background_save": true
        },
        "id": "ggQrUH2D7k1K",
        "outputId": "f51a472e-11f2-4ea4-b1a0-f26a3bfef38e"
      },
      "source": [
        "#@title Precisa de uma dica? Clique aqui.\n",
        "sbytes=b\"abcdefgh\"\n",
        "m3=np.ndarray((2,2),buffer=sbytes,offset=2,dtype=np.int8)\n",
        "print(\"m3=\",m3)"
      ],
      "execution_count": null,
      "outputs": [
        {
          "name": "stdout",
          "output_type": "stream",
          "text": [
            "m3= [[ 99 100]\n",
            " [101 102]]\n"
          ]
        }
      ]
    },
    {
      "cell_type": "markdown",
      "metadata": {
        "id": "kI99jE4V8NKW"
      },
      "source": [
        "### parâmetro strides:\n",
        "\n",
        "O parâmetro *strides* é uma tupla com o mesmo número de dimensões de *shape* e indica o intervalo de passos dentro do buffer para cada dimensão.\n",
        "\n",
        "Considere que temos uma série de bytes dada por **b\"abcdefghijklmnop\"** e queremos uma matriz 3x3 começando em **b\"a\"** (=97) em que:\n",
        "- o passo entre cada linha seja 4: se a linha 1 começa em 97, a linha 2 começa em 101 etc\n",
        "- o passo entre cada coluna seja 3: se a coluna 1 começa em 97 a coluna 2 começa em 100 etc\n",
        "- e assim por diante para cada linha ou coluna\n",
        "\n",
        "Observe que se ultrapassarmos os limites de *buffer*\n",
        "ou *shape* teremos uma mensagem de erro."
      ]
    },
    {
      "cell_type": "code",
      "metadata": {
        "id": "CJ2xYU5m9ur5"
      },
      "source": [
        "sbytes=b\"abcdefghijklmnopq\"\n",
        "matriz=np.ndarray((3,3),buffer=sbytes,strides=(4,3),dtype=np.int8)\n",
        "print(matriz)"
      ],
      "execution_count": null,
      "outputs": []
    },
    {
      "cell_type": "markdown",
      "metadata": {
        "id": "t634CliK-Xkd"
      },
      "source": [
        "### parâmetro order:\n",
        "\n",
        "Por fim, o parâmetro *order* indica a ordem de preenchimento da matriz a\n",
        "partir do buffer:\n",
        "- 'C': ordem da linguagem C: linhas por colunas;\n",
        "- 'F': ordem da linguagem Fortran: colunas por linhas.\n",
        "\n",
        "Veja a diferença de resultado no exemplo:\n",
        "\n"
      ]
    },
    {
      "cell_type": "code",
      "metadata": {
        "id": "xriRegVT-9ZP"
      },
      "source": [
        "sbytes=b\"abcdefghijk\"\n",
        "m1=np.ndarray((3,3),buffer=sbytes,dtype=np.int8,order='C')\n",
        "m2=np.ndarray((3,3),buffer=sbytes,dtype=np.int8,order='F')\n",
        "print(\"Ordem em C:\\n\",m1)\n",
        "print(\"Ordem em F:\\n\",m2)"
      ],
      "execution_count": null,
      "outputs": []
    },
    {
      "cell_type": "markdown",
      "metadata": {
        "id": "xN6FNao1_Ofz"
      },
      "source": [
        "##Outros métodos de construção genérica"
      ]
    },
    {
      "cell_type": "markdown",
      "metadata": {
        "id": "fzBbKKHuKuxf"
      },
      "source": [
        "### Vetor ou matriz a partir de um objeto qualquer ou cópia de um ndarray existente:\n",
        "\n",
        "**_numpy.array(object, dtype=None, \\*, copy=True, order=’K’, subok=False,\n",
        "ndmin=0, like=None)_**\n",
        "\n",
        "É uma versão mais simplificada do construtor básico, em que *object*\n",
        "pode ser qualquer objeto de Python, como lista ou tupla, ou seja,\n",
        "escapamos do rigor apresentado em *ndarray* em que o parâmetro *buffer*\n",
        "é necessariamente uma sequência do tipo *bytes*.\n",
        "\n",
        "Caso o objeto já seja um ndarray, é feita uma cópia dele.\n"
      ]
    },
    {
      "cell_type": "markdown",
      "metadata": {
        "id": "fO-ifU6dK2RO"
      },
      "source": [
        "Exemplo: criar uma matriz a partir de uma lista de inteiros."
      ]
    },
    {
      "cell_type": "code",
      "metadata": {
        "id": "FQiCgo2ALEOX"
      },
      "source": [
        "lista=[9, 7, 4, 2, 1]\n",
        "vetor=np.array(lista)\n",
        "print(vetor)\n",
        "type(vetor)\n"
      ],
      "execution_count": null,
      "outputs": []
    },
    {
      "cell_type": "markdown",
      "metadata": {
        "id": "XyCFm0ypMASS"
      },
      "source": [
        "<table>\n",
        "<caption>Parâmetros de numpy.array</caption>\n",
        "<thead>\n",
        "<tr class=\"header\">\n",
        "<th style=\"text-align: left;\">Parâmetro</th>\n",
        "<th style=\"text-align: left;\">Uso</th>\n",
        "</tr>\n",
        "</thead>\n",
        "<tbody>\n",
        "<tr class=\"odd\">\n",
        "<td style=\"text-align: left;\">object</td>\n",
        "<td style=\"text-align: left;\">o objeto que será transformado em array</td>\n",
        "</tr>\n",
        "<tr class=\"even\">\n",
        "<td style=\"text-align: left;\">dtype</td>\n",
        "<td style=\"text-align: left;\">o tipo único dos elementos do vetor, se omitido, numpy escolherá um adequado</td>\n",
        "</tr>\n",
        "<tr class=\"odd\">\n",
        "<td style=\"text-align: left;\">copy</td>\n",
        "<td style=\"text-align: left;\">True=será feita uma cópia do objeto. Essa opção só tem efeito se o objeto original for um <em>ndarray</em>, pois nos demais casos, a cópia é sempre feita</td>\n",
        "</tr>\n",
        "<tr class=\"even\">\n",
        "<td style=\"text-align: left;\">order</td>\n",
        "<td style=\"text-align: left;\">indica a ordem da matriz:<br/>\n",
        "’K’ - ordem original é preservada,<br/>\n",
        "’A’- ordem de Fortran preservada, do contrário, ordem de C,<br/>\n",
        "’C’ - segue o modelo das matrizes por linhas em C, ou<br/>\n",
        "’F’ segue o modelo de matrizes por colunas em Fortran</td>\n",
        "</tr>\n",
        "<tr class=\"odd\">\n",
        "<td style=\"text-align: left;\">subok</td>\n",
        "<td style=\"text-align: left;\">indica se o objeto já é uma subclasse de ndarray</td>\n",
        "</tr>\n",
        "<tr class=\"even\">\n",
        "<td style=\"text-align: left;\">ndim</td>\n",
        "<td style=\"text-align: left;\">número mínimo de dimensões do vetor</td>\n",
        "</tr>\n",
        "<tr class=\"odd\">\n",
        "<td style=\"text-align: left;\">like</td>\n",
        "<td style=\"text-align: left;\">para o caso especial em que se queira criar um objeto que não seja um ndarray</td>\n",
        "</tr>\n",
        "</tbody>\n",
        "</table>"
      ]
    },
    {
      "cell_type": "markdown",
      "metadata": {
        "id": "5fHl1XItM36h"
      },
      "source": [
        "### Converter um objeto qualquer para *ndarray*:\n",
        "\n",
        "**_numpy.asarray(a, dtype=None, order=None, \\*, like=None)_**\n",
        "\n",
        "Forma ainda mais simples de se construir um *ndarray*, com menos\n",
        "parâmetros que numpy.array(). \n",
        "\n",
        "Tem efeito semelhante a *numpy.array(..., copy=False...).*"
      ]
    },
    {
      "cell_type": "markdown",
      "metadata": {
        "id": "mwj-Tr4NNMze"
      },
      "source": [
        "Exemplo: criar ndarray a partir de uma tupla."
      ]
    },
    {
      "cell_type": "code",
      "metadata": {
        "id": "T_1XaFv_NRLL"
      },
      "source": [
        "tupla=(23,72,81,44,93,2)\n",
        "matriz=np.asarray(tupla)\n",
        "print(matriz)\n",
        "type(matriz)"
      ],
      "execution_count": null,
      "outputs": []
    },
    {
      "cell_type": "markdown",
      "metadata": {
        "id": "F-ZzeAUUN_nV"
      },
      "source": [
        "Parâmetros de numpy.asarray():"
      ]
    },
    {
      "cell_type": "markdown",
      "metadata": {
        "id": "GGEWH7vMNlFC"
      },
      "source": [
        "\n",
        "| Parâmetro | Uso                                                                                                                                                                                                        |\n",
        "|:----------|:-----------------------------------------------------------------------------------------------------------------------------------------------------------------------------------------------------------|\n",
        "| object    | o objeto que será transformado em array                                                                                                                                                                    |\n",
        "| dtype     | o tipo único dos elementos do vetor, se omitido, numpy escolherá um adequado                                                                                                                               |\n",
        "| order     | ’K’ - ordem original é preservada, ’A’- ordem de Fortran preservada, do contrário, ordem de C, ’C’ - segue o modelo das matrizes por linhas em C, ou ’F’ segue o modelo de matrizes por colunas em Fortran |\n",
        "| like      | para o caso especial em que se queira criar um objeto que não seja um ndarray                                                                                                                              |\n",
        "\n"
      ]
    },
    {
      "cell_type": "markdown",
      "metadata": {
        "id": "100BfA_bOUmz"
      },
      "source": [
        "###Diferença entre numpy.array() e numpy.asarray()\n",
        "Como vimos nos exemplos, em geral, o resultado de ambos os métodos é o mesmo, mas quando o objeto a partir do qual se cria o ndarray *já é um ndarray*, temos uma diferença:\n",
        "\n",
        "-   numpy.array() vai criar um **_novo_** ndarray como cópia do ndarray original;\n",
        "\n",
        "-   numpy.asarray() vai apenas **_associar um novo nome_** a um ndarray já existente.\n",
        "\n",
        "Exemplo:"
      ]
    },
    {
      "cell_type": "code",
      "metadata": {
        "id": "hNIm2RxkO_uI"
      },
      "source": [
        "lista=[[9,8,4],[3,7,2]]\n",
        "m1=np.array(lista)\n",
        "m2=np.array(m1)\n",
        "m3=np.asarray(m1)\n",
        "print(\"m1=\\n\",m1)\n",
        "print(\"m2=\\n\",m2)\n",
        "print(\"m3=\\n\",m3)\n",
        "print(\"m1 é m2?\\n\", m1 is m2)\n",
        "print(\"m1 é m3?\\n\", m1 is m3)\n",
        "print(\"m1==m2?\\n\", m1==m2)\n",
        "print(\"m1==m3?\\n\",m1==m3)"
      ],
      "execution_count": null,
      "outputs": []
    },
    {
      "cell_type": "markdown",
      "metadata": {
        "id": "t8E8zkV-QOaH"
      },
      "source": [
        "Portanto:\n",
        "- m1, m2, m3 possuem o mesmo conteúdo em valores;\n",
        "- m1 e m3 são o mesmo objeto, pois m3 foi criado a partir de np.asarray;\n",
        "- m2 é um *novo objeto*, criado como np.array() com valores copiados de m1;\n",
        "- uma alteração em m1 afetará m3 e não afetará m2.\n",
        "\n"
      ]
    },
    {
      "cell_type": "code",
      "metadata": {
        "id": "PJKOpSoqQ3g1"
      },
      "source": [
        "m1[1][1]=0 #alterando elemento m1(1,1) de 7 para 0\n",
        "print(\"m1=\\n\",m1)\n",
        "print(\"m2=\\n\",m2)\n",
        "print(\"m3=\\n\",m3)"
      ],
      "execution_count": null,
      "outputs": []
    },
    {
      "cell_type": "markdown",
      "metadata": {
        "id": "Iz-KJltbOMEt"
      },
      "source": [
        "###Construtores para casos especiais"
      ]
    },
    {
      "cell_type": "markdown",
      "metadata": {
        "id": "NaU2nzoCAEhA"
      },
      "source": [
        "####Vetor ou matriz nula\n",
        "\n",
        "**_numpy.zeros ( shape, dtype = float, order = ’C ’, * , like = None )_**\n",
        "\n",
        "Cria uma matriz nula.\n",
        "\n",
        "O parâmetro like é para o caso especial em que se queira criar um objeto\n",
        "que não seja um ndarray, seu uso não é frequente.\n",
        "\n",
        "Exemplo: criar uma matriz nula 4x4:"
      ]
    },
    {
      "cell_type": "code",
      "metadata": {
        "id": "P6nfGhIdAok3"
      },
      "source": [
        "nula=np.zeros((4,4))\n",
        "print(nula)"
      ],
      "execution_count": null,
      "outputs": []
    },
    {
      "cell_type": "markdown",
      "metadata": {
        "id": "PEPT0VgvBCIP"
      },
      "source": [
        "####Matriz \"oio\" (eye):\n",
        "\n",
        "**_numpy.eye(N, M=None, k=0, dtype=\\<class ’float’\\>, order=’C’, \\*,\n",
        "like=None)_**\n",
        "\n",
        "É a matriz bidimensional que possui:\n",
        "- valor 1 em uma de suas diagonais e\n",
        "- valor 0 nas demais posições. \n",
        "\n",
        "N= número de linhas \n",
        "\n",
        "M= número de colunas, por\n",
        "definição, igual ao número de linhas \n",
        "\n",
        "k= a diagonal a ser preenchida com 1:\n",
        "-   $0$: diagonal principal, que se inicia no alto, à esquerda\n",
        "-   $>0$: diagonais acima da principal\n",
        "-   $<0$: diagonais abaixo da principal"
      ]
    },
    {
      "cell_type": "markdown",
      "metadata": {
        "id": "tMlHIFPhB2Ga"
      },
      "source": [
        "Exemplo 1: criar uma matriz eye 4 x 5:"
      ]
    },
    {
      "cell_type": "code",
      "metadata": {
        "id": "MKdXi2RpB8NT"
      },
      "source": [
        "matriz=np.eye(4,5)\n",
        "print(matriz)"
      ],
      "execution_count": null,
      "outputs": []
    },
    {
      "cell_type": "markdown",
      "metadata": {
        "id": "qAv0GjNHCMRs"
      },
      "source": [
        "Exemplo 2: criar matriz eye 4 x 4 em que a diagonal unitária está a duas diagonais da diagonal principal."
      ]
    },
    {
      "cell_type": "code",
      "metadata": {
        "id": "NkgP4FDhCbs3"
      },
      "source": [
        "matriz=np.eye(4,4,2)\n",
        "print(matriz)"
      ],
      "execution_count": null,
      "outputs": []
    },
    {
      "cell_type": "markdown",
      "metadata": {
        "id": "hkjdoa64Corl"
      },
      "source": [
        "Sua vez: crie uma matriz eye 6 x 6 em que a diagonal unitária está a duas diagonais abaixo da diagonal principal."
      ]
    },
    {
      "cell_type": "code",
      "metadata": {
        "id": "kMl9Di1EC-Sb"
      },
      "source": [
        "matriz= 3 #insira aqui seu código\n",
        "print(matriz)"
      ],
      "execution_count": null,
      "outputs": []
    },
    {
      "cell_type": "code",
      "metadata": {
        "id": "sAU5_2obDHFo"
      },
      "source": [
        "#@title Precisa de ajuda? Clique aqui.\n",
        "matriz= np.eye(6,6,-2)\n",
        "print(matriz)"
      ],
      "execution_count": null,
      "outputs": []
    },
    {
      "cell_type": "markdown",
      "metadata": {
        "id": "XJjtfAEVC7pn"
      },
      "source": [
        "####Matriz identidade\n",
        "**_numpy.identity (n, dtype = None, * ,like = None )_**\n",
        "Matriz quadrada em que a diagonal principal tem valores 1. \n",
        "É um caso particular da matriz eye.\n",
        "\n",
        "Exemplo: criar a matriz identidade 3 x 3."
      ]
    },
    {
      "cell_type": "code",
      "metadata": {
        "id": "BtrkJ4wiD-Hb"
      },
      "source": [
        "matriz=np.identity(3)\n",
        "print(matriz)"
      ],
      "execution_count": null,
      "outputs": []
    },
    {
      "cell_type": "markdown",
      "metadata": {
        "id": "bUvDmFBhEYfZ"
      },
      "source": [
        "#### Vetor ou matriz preenchido com um valor\n",
        "\n",
        "**_numpy.full(shape, fill_value, dtype=None, order='C', *, like=None)_**\n",
        "\n",
        "Exemplo: uma matriz 3x3x3 preenchida com 21:"
      ]
    },
    {
      "cell_type": "code",
      "metadata": {
        "id": "xjVF8uuWE0T2"
      },
      "source": [
        "matriz=np.full((3,3,3),21)\n",
        "print(matriz)"
      ],
      "execution_count": null,
      "outputs": []
    },
    {
      "cell_type": "markdown",
      "metadata": {
        "id": "92w0u22EJiz3"
      },
      "source": [
        "####Matriz preenchida com valor 1\n",
        "\n",
        "**_numpy.ones(shape, dtype=None, order=’C’, \\*, like=None)_**\n",
        "\n",
        "Uma matriz preenchida com o número 1. \n",
        "\n",
        "Caso particular de *numpy.full*.\n"
      ]
    },
    {
      "cell_type": "code",
      "metadata": {
        "id": "YlrkWgdVJlJ9"
      },
      "source": [
        "matriz=np.ones((3,2))\n",
        "print(matriz)"
      ],
      "execution_count": null,
      "outputs": []
    },
    {
      "cell_type": "markdown",
      "metadata": {
        "id": "oycF9WOYJ37u"
      },
      "source": [
        "####Vetor ou matriz vazia ou não inicializada\n",
        "\n",
        "**_numpy.empty(shape, dtype=float, order=’C’, \\*, like=None)_**\n",
        "\n",
        "Cria o vetor sem inicializar os valores, portanto, a matriz pode estar\n",
        "preenchida com *quaisquer* valores.\n",
        "\n",
        "Exemplo: criar uma matriz 3x2 de inteiros de 8 bits."
      ]
    },
    {
      "cell_type": "code",
      "metadata": {
        "id": "StbxZOhgKDX2"
      },
      "source": [
        "matriz=np.empty((3,2),dtype=np.int8)\n",
        "print(matriz)"
      ],
      "execution_count": null,
      "outputs": []
    },
    {
      "cell_type": "markdown",
      "metadata": {
        "id": "fYHti8O0Ue8D"
      },
      "source": [
        "#Tipos escalares e a classe dtype"
      ]
    },
    {
      "cell_type": "markdown",
      "metadata": {
        "id": "M5MNqVASaJK-"
      },
      "source": [
        "##Escalares em Numpy\n",
        "\n",
        "Enquanto vetores e matrizes são compostos por um ou mais valores, os escalares são indicados por apenas um valor.\n",
        "\n",
        "Portanto, o menor elemento de uma matriz é um escalar. \n",
        "Isso vem da linguagem C, onde um *scalar array* é um conjunto de posições de memórias consecutivas e de tamanho fixo que guardam um valor de mesmo *tipo*. \n",
        "\n",
        "Desse modo, os tipos escalares de Numpy  auxiliam na função de organizar a memória quando se cria um objeto *ndarray*, por meio do parâmetro *dtype*.\n",
        "\n",
        "Como a computação numérica exige mais rigor na alocação de memória que os tipos nativos de Python, Numpy cria diversos tipos escalares que podem servir para os elementos de matrizes.\n",
        "\n",
        "Os tipos escalares de Numpy podem ser refereciados por:\n",
        "-   um nome usual,\n",
        "-   o nome próprio da classe ou\n",
        "-   um código em caractere (*character code*).\n",
        "\n",
        "Em particular, o *character code* é um recurso para manter compatibilidade com pacotes mais antigos, como o pacote *Numeric*. Isso faz com que seu uso seja um pouco menos frequente.\n",
        "\n",
        "Algumas observações:\n",
        "- Os tipos escalares possuem uma hierarquia de classes, cuja raiz é a classe *numpy.generic*.\n",
        "- Todos os  numéricos relativos a inteiros, float, complex são  sublclasses da classe *numpy.number*, que por sua vez é uma subclasse de *numpy.generic*. \n",
        "- Diferentemente de Python, a classe *numpy.bool_* não é uma subclasse de algum inteiro, nem é uma subclasse de *numpy.number*, mas é diretamente subclasse de *numpy.generic*.\n",
        "\n",
        "\n",
        "**Escalares numéricos:**\n",
        "\n",
        "| **Nome usual** | **Nome da Classe** | **Descrição**                          |**Char code**    | **C-compatível** |\n",
        "|:---------------|:-------------------|:---------------------------------------|:-----------|:-----------------|\n",
        "| int8           | byte               | inteiro de 8 bits com sinal            |    'b'     | char             |\n",
        "| int16          | short              | inteiro de 16 bits com sinal           |    'h'     | short            |\n",
        "| int32          | intc               | inteiro de 32 bits com sinal           |    'i'     | int              |\n",
        "| int64          | int\\_              | inteiro de 64 bits com sinal           |    'l'     | long             |\n",
        "| longlong       | longlong           | inteiro de 64 bits com sinal           |    'q'     | long long        |\n",
        "| uint8          | ubyte              | inteiro de 8 bits sem sinal            |    'B'     | unsigned char    |\n",
        "| uint16         | ushort             | inteiro de 16 bits sem sinal           |    'H'     | unsigned short   |\n",
        "| uint32         | uintc              | inteiro de 32 bits sem sinal           |    'I'     | unsigned int     |\n",
        "| uint64         | uint               | inteiro de 64 bits sem sinal           |    'L'     | unsigned long    |\n",
        "| ulonglong      | ulonglong          | inteiro de 64 bits com sinal           |    'Q'     | unsigned long long|\n",
        "| float16        | half               | real de meia precisão                  |    'e'     | \\-               |\n",
        "| float32        | single             | real de precisão simples               |    'f'     | float            |\n",
        "| float64        | double             | real de precisão dupla                 |    'd'     | double           |\n",
        "| float128       | longdouble         | real de precisão estendida             |    'g'     | long double      |\n",
        "| complex64      | csingle            | complexo de 2números float de 64 bits  |    'F'     | \\-               |\n",
        "| complex128     | cdouble            | complexo de 2números float de 128 bits |    'D'     | \\-               |\n",
        "| complex256     | clongdouble        | complexo de 2números float de 256 bits |    'G'     | \\-               |\n",
        "\n",
        "**Escalares não-numéricos:**\n",
        "\n",
        "| **Nome usual** | **Nome da Classe** | **Descrição**                          |**Char code**    | **C-compatível** |\n",
        "|:---------------|:-------------------|:---------------------------------------|:-----------|:-----------------|\n",
        "| bool8          | bool\\_             | valor booleano                         |    '?'     | \\-               |\n",
        "|datetime64      |datetime64      | data a partir de 1970-01-01T00:00:00| 'M' | \\-|\n",
        "|timedelta64     |timedelta64     | intervalo de tempo/datas |'m'| \\-|\n",
        "| object\\_       | object\\_          | qualquer objeto Python                 |    'O'     | \\-               |\n",
        "| string\\_       | bytes\\_            | byte string                            | 'S','c','a'| \\-               |\n",
        "| unicode\\_      | str\\_              | string Unicode                         |    'U'     | \\-               |\n",
        "| void           | void               | dados em estruturas multitipo          |    'V'     | \\-               |\n",
        "\n",
        "\n"
      ]
    },
    {
      "cell_type": "markdown",
      "metadata": {
        "id": "03AYo5jLZ5SI"
      },
      "source": [
        "##O que é um objeto da classe *dtype*?\n",
        "\n",
        "\n",
        "A implementação de cada matriz varia conforme o tipo de dado que ela contém, assim vimos que na construção de um objeto *ndarray* um dos parâmetros é o *dtype* que indica o tipo de dados que está contido na matriz.\n",
        "\n",
        "Pode-se pensar cada matriz como um bloco de memória em que *dtype* indica como esse bloco deve ser lido para formar os elementos da matriz.\n",
        "\n",
        "A classe de tipo de dados - *data type* ou simplesmente *dtype* -\n",
        "indica:\n",
        "-   o tipo de dado: booleano, inteiro, float, objeto, estrutura etc\n",
        "-   o número fixo de bytes que o objeto ocupa;\n",
        "-   a *ordem* de interpretação desses bytes;\n",
        "-   se o dado é uma estrutura que combina diferentes tipos de dados, como um registro contendo:\n",
        "   - os nomes dos campos da estrutura;\n",
        "   - o tipo de dado de cada campo;\n",
        "   - o bloco de memória ocupado por cada campo;\n",
        "- se o dado é um sub-array: o seu *shape* e *dtype* \n",
        "\n",
        "Com relação à *ordem de interpretação dos bytes* temos duas possibilidades:\n",
        "- *big-endian*: os bytes mais significativos vêm primeiro;\n",
        "- *little-endian*: os bytes menos significativos vêm primeiro.\n",
        "\n",
        "Essa qualidade de ordem é denominada *endianess*.\n",
        "\n",
        "\n"
      ]
    },
    {
      "cell_type": "markdown",
      "metadata": {
        "id": "mQLJWH_vE_rc"
      },
      "source": [
        "##Flexibilidade ao indicar o parâmetro dtype\n",
        "\n",
        "Ao criar uma matriz, podemos indicar o parâmetro *dtype* de diversos modos e obter o mesmo resultado:"
      ]
    },
    {
      "cell_type": "code",
      "metadata": {
        "colab": {
          "base_uri": "https://localhost:8080/"
        },
        "id": "qaQLfdPvjAax",
        "outputId": "e5cdf22d-5f2d-486a-e6ef-3350fcb77586"
      },
      "source": [
        "import numpy as np\n",
        "lista=[9,2,3,4,7]\n",
        "matriz=np.array(lista,dtype=np.short)\n",
        "print(np.dtype(matriz[0]))\n",
        "matriz=np.array(lista,dtype=np.int16)\n",
        "print(np.dtype(matriz[0]))\n",
        "matriz=np.array(lista,dtype='short')\n",
        "print(np.dtype(matriz[0]))\n",
        "matriz=np.array(lista,dtype='int16')\n",
        "print(np.dtype(matriz[0]))\n",
        "matriz=np.array(lista,dtype='h')\n",
        "print(np.dtype(matriz[0]))\n",
        "matriz=np.array(lista,dtype='<i2')\n",
        "print(np.dtype(matriz[0]))\n"
      ],
      "execution_count": null,
      "outputs": [
        {
          "output_type": "stream",
          "name": "stdout",
          "text": [
            "int16\n",
            "int16\n",
            "int16\n",
            "int16\n",
            "int16\n",
            "int16\n"
          ]
        }
      ]
    },
    {
      "cell_type": "markdown",
      "metadata": {
        "id": "RSu7SjchFL5W"
      },
      "source": [
        "As cinco primeiras formas acima vieram da tabela dos tipos escalares de Numpy. \n",
        "\n",
        "Embora os tipos escalares possam ser usados sempre que for necessária uma indicação de tipos de dados no parâmetro *dtype*, eles **não são** instâncias da classe *numpy.dtype*, pois pertencem à hierarquia de subclasses da classe *numpy.generic*.\n",
        "\n",
        "A última forma, *'<i2'* é uma *type string* , isto é, uma string composta por três partes:\n",
        "- a ordem dos bytes, que pode ser dada por:\n",
        "  - '<': little-endian;\n",
        "  - '>': big-endian;\n",
        "  - '=': default do sistema;\n",
        "  - '|': irrelevante;\n",
        "  - e ainda pode ser omitida;\n",
        "- um caractere que indica o tipo em que se baseia (v. tabela abaixo);\n",
        "- um inteiro que indica o número de bytes utilizados.\n",
        "\n",
        "\n",
        "Código de tipos:\n",
        "\n",
        "\n",
        "|  Código |       Significado      |\n",
        "|:------------:|:----------------------|\n",
        "| b            | Boolean                |\n",
        "| i            | Integer                |\n",
        "| u            | Unsigned integer       |\n",
        "| f            | Floating point         |\n",
        "| c            | Complex floating point |\n",
        "| m            | Timedelta              |\n",
        "| M            | Datetime               |\n",
        "| O            | Object                 |\n",
        "| S            | String                 |\n",
        "| U            | Unicode                |\n",
        "| V            | Void (bloco de dados)  |\n",
        "\n",
        "\n",
        "Desse modo, *'<i2'* significa um inteiro de 2 bytes com ordem *little-endian*, o byte menos significativo vem primeiro.\n",
        "Como a ordem pode ser omitida, é o mesmo que *'i2'*.\n",
        "\n",
        "Após conhecer um pouco mais sobre o construtor *numpy.dtype()*, vamos ver as *type strings* válidas, porém, já cabem algumas observações:\n",
        "- o símbolo 'b' sozinho é o *char code* de *byte*, porém, 'b1' indica *boolean*;\n",
        "- o símbolo 'c' sozinho é o *char code* de *string*, porém, 'c8','c16','c32' indicam um *número complexo*;\n",
        "- para os tipos numéricos, o número de bytes é indicado por potências de dois;\n",
        "- os símbolos S, U, V aceitam um inteiro qualquer pois indica diretamente o número de bytes;\n",
        "- embora para 'O' se possa omitir o tamanho ou indicar os inteiros 4 e 8, seu tamanho é de 8 bytes;\n",
        "- para U o inteiro resulta num tamanho multiplicado por 4;\n",
        "- S e V não são afetados pelo indicador de *endianess*."
      ]
    },
    {
      "cell_type": "markdown",
      "metadata": {
        "id": "s33MkwH0GNKt"
      },
      "source": [
        "##O construtor *numpy.dtype()*\n",
        "\n",
        "É possível definir um objeto *dtype* com o construtor:\n",
        "\n",
        "**numpy.dtype(obj,align,copy)**\n",
        "\n",
        "###parâmetro *obj*:\n",
        "Qualquer objeto que possa ser convertido num *dtype*, como, por exemplo:\n",
        "- um tipo nativo de Python;\n",
        "- um escalar de Numpy;\n",
        "- uma *typestring*;\n",
        "- uma matriz estruturada composta por uma sequência de campos de diferentes tipos.\n",
        "\n",
        "###parâmetro *align*:\n",
        "Booleano opcional. Na definição de estruturas, faz o preenchimento dos campos de modo a manter correspondência com estrutura semelhante gerada num compilador C.\n",
        "\n",
        "###parâmetro *copy*:\n",
        "Booleano opcional. \n",
        "- True: faz uma cópia para um novo objeto de tipo de dados;\n",
        "- False: faz a referência para um tipo de dados já existente.\n",
        "\n",
        "###Exemplos:\n",
        "\n",
        "\n",
        "\n",
        "\n"
      ]
    },
    {
      "cell_type": "markdown",
      "metadata": {
        "id": "_iLKUt91CioI"
      },
      "source": [
        "####A partir de um tipo nativo de Python:"
      ]
    },
    {
      "cell_type": "code",
      "metadata": {
        "colab": {
          "base_uri": "https://localhost:8080/"
        },
        "id": "NidCs7KfLsXC",
        "outputId": "4349fae2-2eee-47fc-b505-581f63a447ab"
      },
      "source": [
        "mtipo=np.dtype(float)\n",
        "print(mtipo)"
      ],
      "execution_count": null,
      "outputs": [
        {
          "output_type": "stream",
          "name": "stdout",
          "text": [
            "float64\n"
          ]
        }
      ]
    },
    {
      "cell_type": "markdown",
      "metadata": {
        "id": "b5VKJWD-NpE3"
      },
      "source": [
        "####A partir de um escalar de Numpy:\n"
      ]
    },
    {
      "cell_type": "code",
      "metadata": {
        "colab": {
          "base_uri": "https://localhost:8080/"
        },
        "id": "xrAhEFYrNttq",
        "outputId": "29d71462-db5e-43b4-a7a8-5712c4d592cc"
      },
      "source": [
        "mtipo=np.dtype(np.double)\n",
        "print(mtipo)"
      ],
      "execution_count": null,
      "outputs": [
        {
          "output_type": "stream",
          "name": "stdout",
          "text": [
            "float64\n"
          ]
        }
      ]
    },
    {
      "cell_type": "markdown",
      "metadata": {
        "id": "UiLJoIAtOA_Q"
      },
      "source": [
        "####A partir de uma *typestring*:"
      ]
    },
    {
      "cell_type": "code",
      "metadata": {
        "colab": {
          "base_uri": "https://localhost:8080/"
        },
        "id": "yeiVSzedN_Ic",
        "outputId": "9963d6ed-5727-484e-ec84-83693e51e4ee"
      },
      "source": [
        "mtipo=np.dtype('<f8')\n",
        "print(mtipo)"
      ],
      "execution_count": null,
      "outputs": [
        {
          "output_type": "stream",
          "name": "stdout",
          "text": [
            "float64\n"
          ]
        }
      ]
    },
    {
      "cell_type": "markdown",
      "metadata": {
        "id": "2YOerkFTOytL"
      },
      "source": [
        "####A partir de uma matriz estruturada:\n",
        "\n",
        "Vamos montar uma matriz com dois campos: \n",
        "- nome do cliente, com vinte caracteres e \n",
        "- o seu saldo, como um float64."
      ]
    },
    {
      "cell_type": "code",
      "metadata": {
        "colab": {
          "base_uri": "https://localhost:8080/"
        },
        "id": "kGevIhEFO3KE",
        "outputId": "9534ce2d-8566-4be1-c801-30d4a4ba8ce2"
      },
      "source": [
        "import numpy as np\n",
        "\n",
        "mtipo = np.dtype([('nome', 'U20'), ('saldo', 'f8')])\n",
        "\n",
        "pessoas=['Bill','Warren','Elon']\n",
        "saldos=[898988848747.00,989988849707.50,989988847717.50]\n",
        "clientes=list(zip(pessoas,saldos))\n",
        "\n",
        "matriz = np.array(clientes, dtype=mtipo)\n",
        "#consulta o saldo da posição 0\n",
        "print(\"Saldo do Bill: \", matriz[0]['saldo'])\n",
        "#consulta a lista de nomes\n",
        "print(\"Clientes: \", matriz['nome'])\n",
        "#consulta clientes menos milionários\n",
        "print(\"Mais pobres: \", [matriz[x]['nome'] for x in range(0,len(matriz)) if matriz[x]['saldo']<900000000000])\n",
        "#examina a matriz\n",
        "print(matriz)"
      ],
      "execution_count": null,
      "outputs": [
        {
          "output_type": "stream",
          "name": "stdout",
          "text": [
            "Saldo do Bill:  898988848747.0\n",
            "Clientes:  ['Bill' 'Warren' 'Elon']\n",
            "Mais pobres:  ['Bill']\n",
            "[('Bill', 8.98988849e+11) ('Warren', 9.89988850e+11)\n",
            " ('Elon', 9.89988848e+11)]\n"
          ]
        }
      ]
    },
    {
      "cell_type": "markdown",
      "metadata": {
        "id": "TuACNSLhCx8z"
      },
      "source": [
        "####A influência de *dtype* na organização da matriz:"
      ]
    },
    {
      "cell_type": "code",
      "metadata": {
        "colab": {
          "base_uri": "https://localhost:8080/"
        },
        "id": "EoOQVILem966",
        "outputId": "89e9fc39-8036-4b83-9c7d-83e915ec4b93"
      },
      "source": [
        "#bloco é uma lista de hexadecimais\n",
        "bloco=[0xABCDEF,0x012345]\n",
        "\n",
        "#usaremos o mesmo bloco com dois dtypes diferentes:\n",
        "mtipo=np.dtype('<i8')\n",
        "m1=np.asarray(bloco,dtype='int16')\n",
        "m2=np.asarray(bloco,dtype=mtipo)\n",
        "#os resultados levam a duas matrizes diferentes\n",
        "print(\"m1=\",m1)\n",
        "print(\"m2= \",m2)\n",
        "print(m1==m2)"
      ],
      "execution_count": null,
      "outputs": [
        {
          "output_type": "stream",
          "name": "stdout",
          "text": [
            "m1= [-12817   9029]\n",
            "m2=  [11259375    74565]\n",
            "[False False]\n"
          ]
        }
      ]
    },
    {
      "cell_type": "markdown",
      "metadata": {
        "id": "Lq7d8r_3bML5"
      },
      "source": [
        "####Resultados das *typestrings*:\n",
        "Agora que conhecemos um pouco mais de *numpy.dtype()* podemos conferir as *typestrings*:"
      ]
    },
    {
      "cell_type": "code",
      "metadata": {
        "id": "GRg_sjqD2UC0",
        "colab": {
          "base_uri": "https://localhost:8080/"
        },
        "outputId": "98c255ab-db80-49e2-bb07-50a438240046"
      },
      "source": [
        "#elementos das typestrings\n",
        "codigo='biufcmMOSUV'\n",
        "tam=['','1','2','4','7','8','16','32','64'] #7 está aí como tamanho qualquer\n",
        "endian=[\"\",\"<\",\">\"]\n",
        "\n",
        "print(\"Type strings válidas\\n\")\n",
        "print(\"{:<9.7} {:<13.11} {:<11.10}\".format(\"Typestr\",\"dtype\",\"bytes\"))\n",
        "for endi in endian:\n",
        "   for cod in codigo:\n",
        "      for tt in tam:\n",
        "          tstring=endi+cod+tt         #forma a typestring\n",
        "          try:                        #tenta construir o dtype\n",
        "              mtipo=np.dtype(tstring)\n",
        "          except TypeError:           #vamos apenas omitir as que não existem\n",
        "              pass\n",
        "          else:        \n",
        "              print(\"{:<9.7} {:<13.11} {:<6.5}\".format(tstring,str(np.dtype(mtipo)),str(mtipo.itemsize)))\n",
        "   print(\"\\n\")           \n",
        "       "
      ],
      "execution_count": null,
      "outputs": [
        {
          "output_type": "stream",
          "name": "stdout",
          "text": [
            "Type strings válidas\n",
            "\n",
            "Typestr   dtype         bytes      \n",
            "b         int8          1     \n",
            "b1        bool          1     \n",
            "i         int32         4     \n",
            "i1        int8          1     \n",
            "i2        int16         2     \n",
            "i4        int32         4     \n",
            "i8        int64         8     \n",
            "u1        uint8         1     \n",
            "u2        uint16        2     \n",
            "u4        uint32        4     \n",
            "u8        uint64        8     \n",
            "f         float32       4     \n",
            "f2        float16       2     \n",
            "f4        float32       4     \n",
            "f8        float64       8     \n",
            "f16       float128      16    \n",
            "c         |S1           1     \n",
            "c8        complex64     8     \n",
            "c16       complex128    16    \n",
            "c32       complex256    32    \n",
            "m         timedelta64   8     \n",
            "m8        timedelta64   8     \n",
            "M         datetime64    8     \n",
            "M8        datetime64    8     \n",
            "O         object        8     \n",
            "O4        object        8     \n",
            "O8        object        8     \n",
            "S         |S0           0     \n",
            "S1        |S1           1     \n",
            "S2        |S2           2     \n",
            "S4        |S4           4     \n",
            "S7        |S7           7     \n",
            "S8        |S8           8     \n",
            "S16       |S16          16    \n",
            "S32       |S32          32    \n",
            "S64       |S64          64    \n",
            "U         <U0           0     \n",
            "U1        <U1           4     \n",
            "U2        <U2           8     \n",
            "U4        <U4           16    \n",
            "U7        <U7           28    \n",
            "U8        <U8           32    \n",
            "U16       <U16          64    \n",
            "U32       <U32          128   \n",
            "U64       <U64          256   \n",
            "V         |V0           0     \n",
            "V1        |V1           1     \n",
            "V2        |V2           2     \n",
            "V4        |V4           4     \n",
            "V7        |V7           7     \n",
            "V8        |V8           8     \n",
            "V16       |V16          16    \n",
            "V32       |V32          32    \n",
            "V64       |V64          64    \n",
            "\n",
            "\n",
            "<b        int8          1     \n",
            "<b1       bool          1     \n",
            "<i        int32         4     \n",
            "<i1       int8          1     \n",
            "<i2       int16         2     \n",
            "<i4       int32         4     \n",
            "<i8       int64         8     \n",
            "<u1       uint8         1     \n",
            "<u2       uint16        2     \n",
            "<u4       uint32        4     \n",
            "<u8       uint64        8     \n",
            "<f        float32       4     \n",
            "<f2       float16       2     \n",
            "<f4       float32       4     \n",
            "<f8       float64       8     \n",
            "<f16      float128      16    \n",
            "<c        |S1           1     \n",
            "<c8       complex64     8     \n",
            "<c16      complex128    16    \n",
            "<c32      complex256    32    \n",
            "<m        timedelta64   8     \n",
            "<m8       timedelta64   8     \n",
            "<M        datetime64    8     \n",
            "<M8       datetime64    8     \n",
            "<O        object        8     \n",
            "<O4       object        8     \n",
            "<O8       object        8     \n",
            "<S        |S0           0     \n",
            "<S1       |S1           1     \n",
            "<S2       |S2           2     \n",
            "<S4       |S4           4     \n",
            "<S7       |S7           7     \n",
            "<S8       |S8           8     \n",
            "<S16      |S16          16    \n",
            "<S32      |S32          32    \n",
            "<S64      |S64          64    \n",
            "<U        <U0           0     \n",
            "<U1       <U1           4     \n",
            "<U2       <U2           8     \n",
            "<U4       <U4           16    \n",
            "<U7       <U7           28    \n",
            "<U8       <U8           32    \n",
            "<U16      <U16          64    \n",
            "<U32      <U32          128   \n",
            "<U64      <U64          256   \n",
            "<V        |V0           0     \n",
            "<V1       |V1           1     \n",
            "<V2       |V2           2     \n",
            "<V4       |V4           4     \n",
            "<V7       |V7           7     \n",
            "<V8       |V8           8     \n",
            "<V16      |V16          16    \n",
            "<V32      |V32          32    \n",
            "<V64      |V64          64    \n",
            "\n",
            "\n",
            ">b        int8          1     \n",
            ">b1       bool          1     \n",
            ">i        >i4           4     \n",
            ">i1       int8          1     \n",
            ">i2       >i2           2     \n",
            ">i4       >i4           4     \n",
            ">i8       >i8           8     \n",
            ">u1       uint8         1     \n",
            ">u2       >u2           2     \n",
            ">u4       >u4           4     \n",
            ">u8       >u8           8     \n",
            ">f        >f4           4     \n",
            ">f2       >f2           2     \n",
            ">f4       >f4           4     \n",
            ">f8       >f8           8     \n",
            ">f16      >f16          16    \n",
            ">c        |S1           1     \n",
            ">c8       >c8           8     \n",
            ">c16      >c16          16    \n",
            ">c32      >c32          32    \n",
            ">m        >m8           8     \n",
            ">m8       >m8           8     \n",
            ">M        >M8           8     \n",
            ">M8       >M8           8     \n",
            ">O        object        8     \n",
            ">O4       object        8     \n",
            ">O8       object        8     \n",
            ">S        |S0           0     \n",
            ">S1       |S1           1     \n",
            ">S2       |S2           2     \n",
            ">S4       |S4           4     \n",
            ">S7       |S7           7     \n",
            ">S8       |S8           8     \n",
            ">S16      |S16          16    \n",
            ">S32      |S32          32    \n",
            ">S64      |S64          64    \n",
            ">U        >U0           0     \n",
            ">U1       >U1           4     \n",
            ">U2       >U2           8     \n",
            ">U4       >U4           16    \n",
            ">U7       >U7           28    \n",
            ">U8       >U8           32    \n",
            ">U16      >U16          64    \n",
            ">U32      >U32          128   \n",
            ">U64      >U64          256   \n",
            ">V        |V0           0     \n",
            ">V1       |V1           1     \n",
            ">V2       |V2           2     \n",
            ">V4       |V4           4     \n",
            ">V7       |V7           7     \n",
            ">V8       |V8           8     \n",
            ">V16      |V16          16    \n",
            ">V32      |V32          32    \n",
            ">V64      |V64          64    \n",
            "\n",
            "\n"
          ]
        }
      ]
    },
    {
      "cell_type": "markdown",
      "metadata": {
        "id": "Ifq0Y2RyXLR-"
      },
      "source": [
        "#Indexação e particionamento de matrizes\n"
      ]
    },
    {
      "cell_type": "markdown",
      "metadata": {
        "id": "LKMO0Y0qOz9J"
      },
      "source": [
        "##Fundamentos"
      ]
    },
    {
      "cell_type": "markdown",
      "metadata": {
        "id": "XdxuGMDML2bu"
      },
      "source": [
        "###Semelhança com listas de Python\n",
        "De início, a indexação e o particionamento de matrizes é muito semelhante ao das listas em Python:\n",
        "- um índice é indicado por um número, em que '0' (zero) é sempre a primeira posição;\n",
        "- múltiplos índices são indicados por sequências de números entre colchetes *- nome[0][3]...*;\n",
        "- um particionamento é indicado por um intervalo separado por dois pontos - *x:y* - em que *x* é o primeiro elemento, inclusive, e *y* o último elemento, exclusive.\n",
        "\n",
        "Vamos a alguns exemplos:"
      ]
    },
    {
      "cell_type": "code",
      "metadata": {
        "colab": {
          "base_uri": "https://localhost:8080/"
        },
        "id": "uN8E4IYZMaQo",
        "outputId": "89d63f90-8ffc-4987-a1e0-fdb7ef4a352d"
      },
      "source": [
        "import numpy as np\n",
        "print(\"Sejam a lista e matriz:\")\n",
        "lista=[[1,2,3],[2,4,6],[3,6,9]]\n",
        "matriz=np.asarray(lista)\n",
        "print('lista=',lista)\n",
        "print('matriz=',matriz,end='\\n\\n')\n",
        "print('Primeiro elemento:')\n",
        "print('lista[0]=',lista[0])\n",
        "print('matriz[0]=',matriz[0],end='\\n\\n')\n",
        "print('Todos os elementos até o elemento 1:')\n",
        "print('lista[:2]=',lista[:2])\n",
        "print('matriz[:2]=',matriz[:2],end='\\n\\n')\n",
        "print('Do elemento 1 até o final:')\n",
        "print('lista[1:]=',lista[1:])\n",
        "print('matriz[1:]=',matriz[1:],end='\\n\\n')"
      ],
      "execution_count": null,
      "outputs": [
        {
          "output_type": "stream",
          "name": "stdout",
          "text": [
            "Sejam a lista e matriz:\n",
            "lista= [[1, 2, 3], [2, 4, 6], [3, 6, 9]]\n",
            "matriz= [[1 2 3]\n",
            " [2 4 6]\n",
            " [3 6 9]]\n",
            "\n",
            "Primeiro elemento:\n",
            "lista[0]= [1, 2, 3]\n",
            "matriz[0]= [1 2 3]\n",
            "\n",
            "Todos os elementos até o elemento 1:\n",
            "lista[:2]= [[1, 2, 3], [2, 4, 6]]\n",
            "matriz[:2]= [[1 2 3]\n",
            " [2 4 6]]\n",
            "\n",
            "Do elemento 1 até o final:\n",
            "lista[1:]= [[2, 4, 6], [3, 6, 9]]\n",
            "matriz[1:]= [[2 4 6]\n",
            " [3 6 9]]\n",
            "\n"
          ]
        }
      ]
    },
    {
      "cell_type": "markdown",
      "metadata": {
        "id": "t7Q_1aKkL1Lm"
      },
      "source": [
        "###Alternativa para indexar múltiplas dimensões\n",
        "É comum termos diversas dimensões no trabalho com matrizes, por isso Numpy permite uma notação mais amigável para indexar matrizes de n dimensões, usando tuplas.\n",
        "\n",
        "Considere M uma matriz de dimensões m x n x p, Numpy permite indicar qualquer elemento por M\\[i, j, k\\].\n",
        "\n",
        "Veja o exemplo, com uma matriz 3x3:"
      ]
    },
    {
      "cell_type": "code",
      "metadata": {
        "colab": {
          "base_uri": "https://localhost:8080/"
        },
        "id": "i23nmQB0PvHy",
        "outputId": "575c494f-b6f4-4a28-9780-2d872487a626"
      },
      "source": [
        "lista=[[1,2,3],[2,4,6],[3,6,9]]\n",
        "matriz=np.asarray(lista)\n",
        "\n",
        "print('O segundo elemento da \"linha\" 1:')\n",
        "print('lista[1][2]=',lista[1][2])\n",
        "print('matriz[1][2]=',matriz[1][2],end='\\n\\n')\n",
        "print('Forma alternativa exclusiva de matrizes:')\n",
        "print('matriz[1,2]=',matriz[1,2])"
      ],
      "execution_count": null,
      "outputs": [
        {
          "output_type": "stream",
          "name": "stdout",
          "text": [
            "O segundo elemento da \"linha\" 1:\n",
            "lista[1][2]= 6\n",
            "matriz[1][2]= 6\n",
            "\n",
            "Forma alternativa exclusiva de matrizes:\n",
            "matriz[1,2]= 6\n"
          ]
        }
      ]
    },
    {
      "cell_type": "markdown",
      "metadata": {
        "id": "yzCJHk33QR9r"
      },
      "source": [
        "##Cuidados no particionamento (*slicing*)\n",
        "###Semelhança na forma\n",
        "A forma de particionamento também é semelhante com a de listas em Python, com o acréscimo de particionamento na nova indexação M\\[i,j,k\\] implementada por Numpy."
      ]
    },
    {
      "cell_type": "code",
      "metadata": {
        "colab": {
          "base_uri": "https://localhost:8080/"
        },
        "id": "5KDWyw5xRVLf",
        "outputId": "437a925d-6d0e-479d-dc1c-34b436ef149e"
      },
      "source": [
        "lista=[[1,2,3],[2,4,6],[3,6,9]]\n",
        "matriz=np.asarray(lista)\n",
        "print(matriz)\n",
        "parte=matriz[0:2]\n",
        "print('matriz[0:2]',parte)\n",
        "parte=matriz[2,:1]\n",
        "print('matriz[2,:1]',parte)\n",
        "parte=matriz[1:,:2]\n",
        "print('matriz[1:,:2]',parte)\n",
        "parte=matriz[:,:2]\n",
        "print('matriz[:,:2]',parte)"
      ],
      "execution_count": null,
      "outputs": [
        {
          "output_type": "stream",
          "name": "stdout",
          "text": [
            "[[1 2 3]\n",
            " [2 4 6]\n",
            " [3 6 9]]\n",
            "matriz[0:2] [[1 2 3]\n",
            " [2 4 6]]\n",
            "matriz[2,:1] [3]\n",
            "matriz[1:,:2] [[2 4]\n",
            " [3 6]]\n",
            "matriz[:,:2] [[1 2]\n",
            " [2 4]\n",
            " [3 6]]\n"
          ]
        }
      ]
    },
    {
      "cell_type": "markdown",
      "metadata": {
        "id": "orv0zmuQTX6I"
      },
      "source": [
        "###Diferença: não é feita cópia no particionamento\n",
        "\n",
        "Muito importante assinalar que no particionamento de matrizes em Numpy **não é feita uma cópia da matriz original**, assim:\n",
        "- mudanças na partição afetam a matriz original,\n",
        "- a atribuição de um nome à partição não impede que atribuições à partição por meio desse nome afetem a matriz original,\n",
        "- mudanças na matriz original afetam o valor contido no nome atribuído à partição.\n",
        "\n",
        "Vamos a um exemplo:"
      ]
    },
    {
      "cell_type": "code",
      "metadata": {
        "colab": {
          "base_uri": "https://localhost:8080/"
        },
        "id": "-c2TOGegTxQ3",
        "outputId": "1627baaa-ebf4-4503-b909-a169c5bc85c8"
      },
      "source": [
        "lista=[[1,2,3],[2,4,6],[3,6,9]]\n",
        "matriz=np.asarray(lista)\n",
        "print('matriz=',matriz,end='\\n\\n')\n",
        "parte=matriz[0:2]\n",
        "print('Atribuímos um nome à parte:')\n",
        "print('parte=matriz[0:2], logo \\nparte=',parte,end='\\n\\n')\n",
        "print('Mudamos a matriz original e isso afeta o conteúdo do nome:')\n",
        "matriz[0:2]=0\n",
        "print('matriz[0:2]=0, logo \\nparte=',parte,end='\\n\\n')\n",
        "print('Matriz original também foi afetada:')\n",
        "print('matriz=',matriz,end='\\n\\n')\n",
        "print('Mudamos o conteúdo da parte e isso afeta a matriz original:')\n",
        "parte[0]=111\n",
        "print('parte[0]=111, logo \\nparte=',parte)\n",
        "print('Consequência:')\n",
        "print('matriz=',matriz)\n"
      ],
      "execution_count": null,
      "outputs": [
        {
          "output_type": "stream",
          "name": "stdout",
          "text": [
            "matriz= [[1 2 3]\n",
            " [2 4 6]\n",
            " [3 6 9]]\n",
            "\n",
            "Atribuímos um nome à parte:\n",
            "parte=matriz[0:2], logo \n",
            "parte= [[1 2 3]\n",
            " [2 4 6]]\n",
            "\n",
            "Mudamos a matriz original e isso afeta o conteúdo do nome:\n",
            "matriz[0:2]=0, logo \n",
            "parte= [[0 0 0]\n",
            " [0 0 0]]\n",
            "\n",
            "Matriz original também foi afetada:\n",
            "matriz= [[0 0 0]\n",
            " [0 0 0]\n",
            " [3 6 9]]\n",
            "\n",
            "Mudamos o conteúdo da parte e isso afeta a matriz original:\n",
            "parte[0]=111, logo \n",
            "parte= [[111 111 111]\n",
            " [  0   0   0]]\n",
            "Consequência:\n",
            "matriz= [[111 111 111]\n",
            " [  0   0   0]\n",
            " [  3   6   9]]\n"
          ]
        }
      ]
    },
    {
      "cell_type": "markdown",
      "metadata": {
        "id": "Czg29scnXdX0"
      },
      "source": [
        "###Fazer cópia explícita no particionamento\n",
        "Quando se quer preservar a matriz original é necessário usar explicitamente o método *copy()* ao se criar a parte.\n",
        "\n",
        "Veja o exemplo:"
      ]
    },
    {
      "cell_type": "code",
      "metadata": {
        "colab": {
          "base_uri": "https://localhost:8080/"
        },
        "id": "fFT3OBHwX3-g",
        "outputId": "4b33a33c-3764-461c-9be8-12253161ca30"
      },
      "source": [
        "lista=[[1,2,3],[2,4,6],[3,6,9]]\n",
        "matriz=np.asarray(lista)\n",
        "print('matriz=',matriz,end='\\n\\n')\n",
        "parte=matriz[0:2]\n",
        "copiada=matriz[0:2].copy()\n",
        "print('A parte não copiada e a parte copiada têm os mesmos valores:')\n",
        "print('parte=matriz[0:2], logo \\nparte=',parte)\n",
        "print('copiada=matriz[0:2].copy(), logo \\ncopiada=',copiada,end='\\n\\n')\n",
        "print('Mudamos a matriz original:')\n",
        "matriz[0:2]=0\n",
        "print('matriz[0:2]=0',matriz[0:2],end='\\n\\n')\n",
        "print('A parte não copiada sofre alteração:')\n",
        "print('matriz[0:2]=0, o que resulta \\nparte=',parte)\n",
        "print('A parte copiada não muda:')\n",
        "print('matriz[0:2]=0, o que resulta \\ncopiada=',copiada,end='\\n\\n')\n",
        "print('Mudamos o conteúdo da parte não copiada e isso afeta a matriz original:')\n",
        "parte[0]=111\n",
        "print('parte[0]=111, logo \\nparte=',parte)\n",
        "print('Consequência:')\n",
        "print('matriz=',matriz,end='\\n\\n')\n",
        "\n",
        "print('Mudamos o conteúdo da parte copiada e isso não afeta a matriz original:')\n",
        "copiada[0]=333\n",
        "print('copiada[0]=333 logo \\ncopiada=',copiada)\n",
        "print('Matriz original:')\n",
        "print('matriz=',matriz)\n"
      ],
      "execution_count": null,
      "outputs": [
        {
          "output_type": "stream",
          "name": "stdout",
          "text": [
            "matriz= [[1 2 3]\n",
            " [2 4 6]\n",
            " [3 6 9]]\n",
            "\n",
            "A parte não copiada e a parte copiada têm os mesmos valores:\n",
            "parte=matriz[0:2], logo \n",
            "parte= [[1 2 3]\n",
            " [2 4 6]]\n",
            "copiada=matriz[0:2].copy(), logo \n",
            "copiada= [[1 2 3]\n",
            " [2 4 6]]\n",
            "\n",
            "Mudamos a matriz original:\n",
            "matriz[0:2]=0 [[0 0 0]\n",
            " [0 0 0]]\n",
            "\n",
            "A parte não copiada sofre alteração:\n",
            "matriz[0:2]=0, o que resulta \n",
            "parte= [[0 0 0]\n",
            " [0 0 0]]\n",
            "A parte copiada não muda:\n",
            "matriz[0:2]=0, o que resulta \n",
            "copiada= [[1 2 3]\n",
            " [2 4 6]]\n",
            "\n",
            "Mudamos o conteúdo da parte não copiada e isso afeta a matriz original:\n",
            "parte[0]=111, logo \n",
            "parte= [[111 111 111]\n",
            " [  0   0   0]]\n",
            "Consequência:\n",
            "matriz= [[111 111 111]\n",
            " [  0   0   0]\n",
            " [  3   6   9]]\n",
            "\n",
            "Mudamos o conteúdo da parte copiada e isso não afeta a matriz original:\n",
            "copiada[0]=333 logo \n",
            "copiada= [[333 333 333]\n",
            " [  2   4   6]]\n",
            "Matriz original:\n",
            "matriz= [[111 111 111]\n",
            " [  0   0   0]\n",
            " [  3   6   9]]\n"
          ]
        }
      ]
    },
    {
      "cell_type": "markdown",
      "metadata": {
        "id": "q1wJGkiQZbZJ"
      },
      "source": [
        "##*Broadcasting* de escalar\n",
        "Nos exemplos acima, você pode observar que quando fazemos uma atribuição de um escalar para uma partição, ele se distribui por todos os elementos da partição.\n",
        "\n",
        "Veremos adiante que o processo de broadcasting também pode acontecer entre matrizes, mas, por hora, vamos a um exemplo comparativo de atribuição em listas e  matrizes."
      ]
    },
    {
      "cell_type": "code",
      "metadata": {
        "colab": {
          "base_uri": "https://localhost:8080/"
        },
        "id": "hoAZ7e2UaEDD",
        "outputId": "8b1f09c9-d039-43c2-8180-624761c6876b"
      },
      "source": [
        "lista=[[1,2,3],[2,4,6],[3,6,9]]\n",
        "matriz=np.asarray(lista)\n",
        "print(\"Atribuindo '86' ao elemento 1 de matriz e lista\")\n",
        "matriz[1]=86\n",
        "lista[1]=86\n",
        "print('matriz= ',matriz)\n",
        "print('lista= ',lista)\n"
      ],
      "execution_count": null,
      "outputs": [
        {
          "output_type": "stream",
          "name": "stdout",
          "text": [
            "Atribuindo '86' ao elemento 1 de matriz e lista\n",
            "matriz=  [[ 1  2  3]\n",
            " [86 86 86]\n",
            " [ 3  6  9]]\n",
            "lista=  [[1, 2, 3], 86, [3, 6, 9]]\n"
          ]
        }
      ]
    },
    {
      "cell_type": "markdown",
      "metadata": {
        "id": "6AHkpz0XX0fx"
      },
      "source": [
        "Em particular, se queremos o *broadcasting* de escalar para toda uma matriz usamos o particionamento *[ : ]*, por exemplo:"
      ]
    },
    {
      "cell_type": "code",
      "metadata": {
        "colab": {
          "base_uri": "https://localhost:8080/"
        },
        "id": "x2TG_G_ZX-iJ",
        "outputId": "a580a280-68af-4411-8cc9-1ab56e5538aa"
      },
      "source": [
        "lista=[[1,2,3],[2,4,6],[3,6,9]]\n",
        "matriz=np.asarray(lista)\n",
        "print(matriz,end='\\n\\n')\n",
        "matriz[:]=99\n",
        "print(matriz)"
      ],
      "execution_count": null,
      "outputs": [
        {
          "output_type": "stream",
          "name": "stdout",
          "text": [
            "[[1 2 3]\n",
            " [2 4 6]\n",
            " [3 6 9]]\n",
            "\n",
            "[[99 99 99]\n",
            " [99 99 99]\n",
            " [99 99 99]]\n"
          ]
        }
      ]
    },
    {
      "cell_type": "markdown",
      "metadata": {
        "id": "13_Lz7NctVuR"
      },
      "source": [
        "**Cuidado:** como não há *declaração* de variáveis em Python, a atribuição de um valor numérico a um nome que vinha indicando um *ndarray* irá fazer esse nome ser associado a um tipo numérico, não sendo mais um *ndarray*"
      ]
    },
    {
      "cell_type": "code",
      "metadata": {
        "colab": {
          "base_uri": "https://localhost:8080/"
        },
        "id": "DBmi4zHGto-T",
        "outputId": "ad5b3b22-1472-4140-ef81-73ac2d16f02b"
      },
      "source": [
        "lista=[[1,2,3],[2,4,6],[3,6,9]]\n",
        "matriz=np.asarray(lista)\n",
        "matriz[:]=99\n",
        "print(\"ndarray após broadcasting:\")\n",
        "print(matriz)\n",
        "print(\"número inteiro após atribuição:\")\n",
        "matriz=99\n",
        "print(matriz)"
      ],
      "execution_count": null,
      "outputs": [
        {
          "output_type": "stream",
          "name": "stdout",
          "text": [
            "ndarray após broadcasting:\n",
            "[[99 99 99]\n",
            " [99 99 99]\n",
            " [99 99 99]]\n",
            "número inteiro após atribuição:\n",
            "99\n"
          ]
        }
      ]
    },
    {
      "cell_type": "markdown",
      "metadata": {
        "id": "PXPFOlQmZ8JT"
      },
      "source": [
        "##Indexação por listas de inteiros *(fancy indexing)*"
      ]
    },
    {
      "cell_type": "markdown",
      "metadata": {
        "id": "OLzazHVma3Dg"
      },
      "source": [
        "É possível usar um vetor de inteiros, em que cada inteiro indica uma *linha* da matriz original.\n",
        "\n",
        "Nessa forma de indexação, é feita uma cópia para a nova matriz, portanto, mudanças na matriz original não afetam a parte criada e vice-versa."
      ]
    },
    {
      "cell_type": "code",
      "metadata": {
        "colab": {
          "base_uri": "https://localhost:8080/"
        },
        "id": "Z3DhlQnJaX_R",
        "outputId": "aace9e9f-2a7a-415c-d886-92da614d07f5"
      },
      "source": [
        "lista=[[1,2,3],[2,4,6],[3,6,9],[4,8,16]]\n",
        "matriz=np.asarray(lista)\n",
        "print('Matriz original:')\n",
        "print(matriz, end='\\n\\n')\n",
        "parte=matriz[[1,3]]\n",
        "print('parte=matriz[[1,3]]')\n",
        "print(parte, end='\\n\\n')\n",
        "print('Muda parte para parte[0]=86:')\n",
        "parte[0]=86\n",
        "print('parte=')\n",
        "print(parte)\n",
        "print('matriz original não muda:')\n",
        "print(matriz,end='\\n\\n')\n",
        "print('Muda matriz original para matriz[[1,3]]=99:')\n",
        "matriz[[1,3]]=99\n",
        "print('matriz original=')\n",
        "print(matriz,end='\\n\\n')\n",
        "print('parte não muda:')\n",
        "print(parte,end='\\n\\n')"
      ],
      "execution_count": null,
      "outputs": [
        {
          "output_type": "stream",
          "name": "stdout",
          "text": [
            "Matriz original:\n",
            "[[ 1  2  3]\n",
            " [ 2  4  6]\n",
            " [ 3  6  9]\n",
            " [ 4  8 16]]\n",
            "\n",
            "parte=matriz[[1,3]]\n",
            "[[ 2  4  6]\n",
            " [ 4  8 16]]\n",
            "\n",
            "Muda parte para parte[0]=86:\n",
            "parte=\n",
            "[[86 86 86]\n",
            " [ 4  8 16]]\n",
            "matriz original não muda:\n",
            "[[ 1  2  3]\n",
            " [ 2  4  6]\n",
            " [ 3  6  9]\n",
            " [ 4  8 16]]\n",
            "\n",
            "Muda matriz original para matriz[[1,3]]=99:\n",
            "matriz original=\n",
            "[[ 1  2  3]\n",
            " [99 99 99]\n",
            " [ 3  6  9]\n",
            " [99 99 99]]\n",
            "\n",
            "parte não muda:\n",
            "[[86 86 86]\n",
            " [ 4  8 16]]\n",
            "\n"
          ]
        }
      ]
    },
    {
      "cell_type": "markdown",
      "metadata": {
        "id": "YQfBWA3zdW6Y"
      },
      "source": [
        "Também é possível usar índices negativos e colocar as linhas em qualquer ordem:"
      ]
    },
    {
      "cell_type": "code",
      "metadata": {
        "colab": {
          "base_uri": "https://localhost:8080/"
        },
        "id": "j8MdmwMqdZ1I",
        "outputId": "52d1b8a1-ae08-43c9-b157-c52f0c7dbc9c"
      },
      "source": [
        "lista=[[1,2,3],[2,4,6],[3,6,9],[4,8,16]]\n",
        "matriz=np.asarray(lista)\n",
        "print('Matriz original:')\n",
        "print(matriz, end='\\n\\n')\n",
        "parte=matriz[[-1,-2]]\n",
        "print('parte=matriz[[-1,-2]]')\n",
        "print(parte, end='\\n\\n')\n",
        "parte=matriz[[3,1,2]]\n",
        "print('parte=matriz[[3,1,2]]')\n",
        "print(parte, end='\\n\\n')\n",
        "parte=matriz[[0,-1,2]]\n",
        "print('parte=matriz[[0,-1,2]]')\n",
        "print(parte, end='\\n\\n')"
      ],
      "execution_count": null,
      "outputs": [
        {
          "output_type": "stream",
          "name": "stdout",
          "text": [
            "Matriz original:\n",
            "[[ 1  2  3]\n",
            " [ 2  4  6]\n",
            " [ 3  6  9]\n",
            " [ 4  8 16]]\n",
            "\n",
            "parte=matriz[[-1,-2]]\n",
            "[[ 4  8 16]\n",
            " [ 3  6  9]]\n",
            "\n",
            "parte=matriz[[3,1,2]]\n",
            "[[ 4  8 16]\n",
            " [ 2  4  6]\n",
            " [ 3  6  9]]\n",
            "\n",
            "parte=matriz[[0,-1,2]]\n",
            "[[ 1  2  3]\n",
            " [ 4  8 16]\n",
            " [ 3  6  9]]\n",
            "\n"
          ]
        }
      ]
    },
    {
      "cell_type": "markdown",
      "metadata": {
        "id": "ykKbpb-LeyJY"
      },
      "source": [
        "É possível usar mais de uma dimensão no array de índices e, nesse caso, ele passa a indicar pontos na matriz"
      ]
    }
  ]
}