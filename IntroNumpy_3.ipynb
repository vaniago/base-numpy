{
  "nbformat": 4,
  "nbformat_minor": 0,
  "metadata": {
    "colab": {
      "name": "IntroNumpy_3",
      "provenance": [],
      "collapsed_sections": [
        "9LsorsTvWf9h",
        "w_H5eOiBkthf",
        "gIYMgNkHlTsy"
      ],
      "authorship_tag": "ABX9TyNC3v9MwKT7yjDar4BNc8qI",
      "include_colab_link": true
    },
    "kernelspec": {
      "name": "python3",
      "display_name": "Python 3"
    },
    "language_info": {
      "name": "python"
    }
  },
  "cells": [
    {
      "cell_type": "markdown",
      "metadata": {
        "id": "view-in-github",
        "colab_type": "text"
      },
      "source": [
        "<a href=\"https://colab.research.google.com/github/vaniago/base-numpy/blob/main/IntroNumpy_3.ipynb\" target=\"_parent\"><img src=\"https://colab.research.google.com/assets/colab-badge.svg\" alt=\"Open In Colab\"/></a>"
      ]
    },
    {
      "cell_type": "markdown",
      "metadata": {
        "id": "uPzisrfyTSor"
      },
      "source": [
        "#Broadcasting"
      ]
    },
    {
      "cell_type": "markdown",
      "metadata": {
        "id": "p2C2HUVyTX71"
      },
      "source": [
        "*Broadcasting* é um método de aplicação de operações aritméticas entre matrizes de dimensões diferentes."
      ]
    },
    {
      "cell_type": "markdown",
      "metadata": {
        "id": "C0KQqjw8T0V7"
      },
      "source": [
        "##Broadcasting de escalar\n",
        "\n",
        "O caso mais simples, que já vimos, é a atribuição de um valor escalar a uma matriz qualquer."
      ]
    },
    {
      "cell_type": "code",
      "metadata": {
        "colab": {
          "base_uri": "https://localhost:8080/"
        },
        "id": "IaSU6zm3T9BO",
        "outputId": "2c888805-3588-471b-987b-d5a92388088a"
      },
      "source": [
        "import numpy as np\n",
        "\n",
        "lista=[[12,20,34],[13,21,35],[14,22,36]]\n",
        "matriz=np.asarray(lista)\n",
        "print('matriz original:')\n",
        "print(matriz)\n",
        "print(\"Broadcasting do valor 5\")\n",
        "matriz[:]=5\n",
        "print('matriz[:]=5 \\n',matriz)"
      ],
      "execution_count": null,
      "outputs": [
        {
          "output_type": "stream",
          "name": "stdout",
          "text": [
            "matriz original:\n",
            "[[12 20 34]\n",
            " [13 21 35]\n",
            " [14 22 36]]\n",
            "Broadcasting do valor 5\n",
            "matriz[:]=5 \n",
            " [[5 5 5]\n",
            " [5 5 5]\n",
            " [5 5 5]]\n"
          ]
        }
      ]
    },
    {
      "cell_type": "markdown",
      "metadata": {
        "id": "XFRbiJByUnLu"
      },
      "source": [
        "As operações aritméticas com escalares também resultam por *broadcasting*"
      ]
    },
    {
      "cell_type": "code",
      "metadata": {
        "colab": {
          "base_uri": "https://localhost:8080/"
        },
        "id": "MtwZdRIiUv5G",
        "outputId": "7cbc4d60-566b-4829-9362-84525f65ccf8"
      },
      "source": [
        "import numpy as np\n",
        "\n",
        "lista=[[12,20,34],[13,21,35],[14,22,36]]\n",
        "matriz=np.asarray(lista)\n",
        "print('matriz original:')\n",
        "print(matriz)\n",
        "print(\"Broadcasting da divisão inteira por 5\")\n",
        "matriz=matriz//5\n",
        "print('matriz=matriz//5 \\n',matriz)"
      ],
      "execution_count": null,
      "outputs": [
        {
          "output_type": "stream",
          "name": "stdout",
          "text": [
            "matriz original:\n",
            "[[12 20 34]\n",
            " [13 21 35]\n",
            " [14 22 36]]\n",
            "Broadcasting da divisão inteira por 5\n",
            "matriz=matriz//5 \n",
            " [[2 4 6]\n",
            " [2 4 7]\n",
            " [2 4 7]]\n"
          ]
        }
      ]
    },
    {
      "cell_type": "markdown",
      "metadata": {
        "id": "jReGAXdZWE0X"
      },
      "source": [
        "Desse modo, podemos realizar operações aritméticas sobre elementos de matrizes.\n",
        "Neste exemplo, vamos substituir os valores originais das matrizes pelo seu escore normalizado z, a partir da média e do desvio-padrão:"
      ]
    },
    {
      "cell_type": "code",
      "metadata": {
        "colab": {
          "base_uri": "https://localhost:8080/"
        },
        "id": "orOtC6K8VPc4",
        "outputId": "41bcfa14-8b7c-4ba0-ed45-b54eb83bc449"
      },
      "source": [
        "import numpy as np\n",
        "#gera a matriz normalizada a partir do \n",
        "#escore z=(x-média)/(desvpadrão)\n",
        "\n",
        "lista=[[12,20,34],[13,21,35],[14,22,36]]\n",
        "matriz=np.asarray(lista)\n",
        "media=matriz.mean()\n",
        "desvpad=matriz.std()\n",
        "print('matriz original=')\n",
        "print(matriz)\n",
        "print(\"matriz normalizada\")\n",
        "normalizada=(matriz-media)/desvpad\n",
        "print('normalizada= \\n',normalizada)"
      ],
      "execution_count": null,
      "outputs": [
        {
          "output_type": "stream",
          "name": "stdout",
          "text": [
            "matriz original=\n",
            "[[12 20 34]\n",
            " [13 21 35]\n",
            " [14 22 36]]\n",
            "matriz normalizada\n",
            "normalizada= \n",
            " [[-1.20498963 -0.32863353  1.20498963]\n",
            " [-1.09544512 -0.21908902  1.31453414]\n",
            " [-0.9859006  -0.10954451  1.42407865]]\n"
          ]
        }
      ]
    },
    {
      "cell_type": "markdown",
      "metadata": {
        "id": "9LsorsTvWf9h"
      },
      "source": [
        "##*Broadcasting* entre matrizes de dimensões diferentes"
      ]
    },
    {
      "cell_type": "markdown",
      "metadata": {
        "id": "ZYOkHdXSWkb_"
      },
      "source": [
        "O *broadcasting* entre matrizes de dimensões diferentes segue algumas regras."
      ]
    },
    {
      "cell_type": "markdown",
      "metadata": {
        "id": "XyVuRW5sXE3L"
      },
      "source": [
        "##Regra da compatibilidade de dimensões\n",
        "As matrizes precisam ter:    \n",
        "* ou um valor igual para a mesma dimensão;\n",
        "* ou o valor 1 para dimensões diferentes.\n",
        "\n",
        "\n",
        "###Exemplo\n",
        "\n"
      ]
    },
    {
      "cell_type": "code",
      "metadata": {
        "colab": {
          "base_uri": "https://localhost:8080/"
        },
        "id": "PSCLTOJ8XmR3",
        "outputId": "497cf787-b9c7-4d33-ba53-4bf0968f2bf7"
      },
      "source": [
        "import numpy as np\n",
        "\n",
        "l1=[[12,20,34],[13,21,35],[14,22,36]]\n",
        "l2=[[1,2,3]]\n",
        "\n",
        "m1=np.asarray(l1) #m1 é 3x3\n",
        "m2=np.asarray(l2) #m2 é 1x3\n",
        "print('m1=\\n',m1)\n",
        "print('m2=\\n',m2)\n",
        "print('m1-m2=\\n',m1-m2)"
      ],
      "execution_count": null,
      "outputs": [
        {
          "output_type": "stream",
          "name": "stdout",
          "text": [
            "m1=\n",
            " [[12 20 34]\n",
            " [13 21 35]\n",
            " [14 22 36]]\n",
            "m2=\n",
            " [[1 2 3]]\n",
            "m1-m2=\n",
            " [[11 18 31]\n",
            " [12 19 32]\n",
            " [13 20 33]]\n"
          ]
        }
      ]
    },
    {
      "cell_type": "markdown",
      "metadata": {
        "id": "rE-r0I1-ZMO_"
      },
      "source": [
        "Se aumentarmos uma dimensão em m2, tornado-o um vetor de 1x4, teremos erro *ValueError*:"
      ]
    },
    {
      "cell_type": "code",
      "metadata": {
        "colab": {
          "base_uri": "https://localhost:8080/",
          "height": 301
        },
        "id": "Dx7iw5N1ZIAO",
        "outputId": "e19494bb-7e3f-4ca7-da5b-b26a9fcd7658"
      },
      "source": [
        "import numpy as np\n",
        "\n",
        "l1=[[12,20,34],[13,21,35],[14,22,36]]\n",
        "l2=[[1,1,1,1]]\n",
        "m1=np.asarray(l1) #m1 é 3x3\n",
        "m2=np.asarray(l2) #m2 agora é 1x4\n",
        "print('m1=\\n',m1)\n",
        "print('m2=\\n',m2)\n",
        "print('m1-m2=\\n',m1-m2)"
      ],
      "execution_count": null,
      "outputs": [
        {
          "output_type": "stream",
          "name": "stdout",
          "text": [
            "m1=\n",
            " [[12 20 34]\n",
            " [13 21 35]\n",
            " [14 22 36]]\n",
            "m2=\n",
            " [[1 1 1 1]]\n"
          ]
        },
        {
          "output_type": "error",
          "ename": "ValueError",
          "evalue": "ignored",
          "traceback": [
            "\u001b[0;31m---------------------------------------------------------------------------\u001b[0m",
            "\u001b[0;31mValueError\u001b[0m                                Traceback (most recent call last)",
            "\u001b[0;32m<ipython-input-19-5b935f14d785>\u001b[0m in \u001b[0;36m<module>\u001b[0;34m()\u001b[0m\n\u001b[1;32m      7\u001b[0m \u001b[0mprint\u001b[0m\u001b[0;34m(\u001b[0m\u001b[0;34m'm1=\\n'\u001b[0m\u001b[0;34m,\u001b[0m\u001b[0mm1\u001b[0m\u001b[0;34m)\u001b[0m\u001b[0;34m\u001b[0m\u001b[0;34m\u001b[0m\u001b[0m\n\u001b[1;32m      8\u001b[0m \u001b[0mprint\u001b[0m\u001b[0;34m(\u001b[0m\u001b[0;34m'm2=\\n'\u001b[0m\u001b[0;34m,\u001b[0m\u001b[0mm2\u001b[0m\u001b[0;34m)\u001b[0m\u001b[0;34m\u001b[0m\u001b[0;34m\u001b[0m\u001b[0m\n\u001b[0;32m----> 9\u001b[0;31m \u001b[0mprint\u001b[0m\u001b[0;34m(\u001b[0m\u001b[0;34m'm1-m2=\\n'\u001b[0m\u001b[0;34m,\u001b[0m\u001b[0mm1\u001b[0m\u001b[0;34m-\u001b[0m\u001b[0mm2\u001b[0m\u001b[0;34m)\u001b[0m\u001b[0;34m\u001b[0m\u001b[0;34m\u001b[0m\u001b[0m\n\u001b[0m",
            "\u001b[0;31mValueError\u001b[0m: operands could not be broadcast together with shapes (3,3) (1,4) "
          ]
        }
      ]
    },
    {
      "cell_type": "markdown",
      "metadata": {
        "id": "hREnsSZbavIu"
      },
      "source": [
        "Se mudarmos m2 para a dimensão (3x1), volta a funcionar e, dependendo dos valores, o resultado será diferente:      "
      ]
    },
    {
      "cell_type": "code",
      "metadata": {
        "colab": {
          "base_uri": "https://localhost:8080/"
        },
        "id": "MESBSWyHTRWH",
        "outputId": "09f5227d-ba0b-4ab0-9b0b-3e1761354b5f"
      },
      "source": [
        "import numpy as np\n",
        "\n",
        "l1=[[12,20,34],[13,21,35],[14,22,36]]\n",
        "l2=[[1],[2],[3]]\n",
        "m1=np.asarray(l1) #m1 é 3x3\n",
        "m2=np.asarray(l2) #m2 é 3x1\n",
        "print('m1=\\n',m1)\n",
        "print('m2=\\n',m2)\n",
        "print('m1-m2=\\n',m1-m2)\n",
        "print(m1.shape)\n",
        "print(m2.shape)"
      ],
      "execution_count": null,
      "outputs": [
        {
          "output_type": "stream",
          "name": "stdout",
          "text": [
            "m1=\n",
            " [[12 20 34]\n",
            " [13 21 35]\n",
            " [14 22 36]]\n",
            "m2=\n",
            " [[1]\n",
            " [2]\n",
            " [3]]\n",
            "m1-m2=\n",
            " [[11 19 33]\n",
            " [11 19 33]\n",
            " [11 19 33]]\n",
            "(3, 3)\n",
            "(3, 1)\n"
          ]
        }
      ]
    },
    {
      "cell_type": "markdown",
      "metadata": {
        "id": "PFSK19q6blyG"
      },
      "source": [
        "###Com mais dimensões\n",
        "\n",
        "Suponha uma matriz m1 com dimensões 3x4x5.\n",
        "Pela regra de compatibilidade, serão compatíveis:    \n",
        "* m2 4x5\n",
        "* m3 1x4x5\n",
        "* m4 3x4x1\n",
        "* m5 3x1x5\n",
        "\n",
        "Vamos aos exemplos:"
      ]
    },
    {
      "cell_type": "code",
      "metadata": {
        "colab": {
          "base_uri": "https://localhost:8080/"
        },
        "id": "3xp5IcbQf6VG",
        "outputId": "38ede427-932e-48ea-9bae-04bc72a4be7e"
      },
      "source": [
        "import numpy as np\n",
        "m1=np.arange(60).reshape(3,4,5)\n",
        "print('m1=\\n',m1)\n",
        "m2=np.arange(20).reshape(4,5)\n",
        "print('m2=\\n',m2)\n",
        "print('m1-m2=\\n',m1-m2)"
      ],
      "execution_count": null,
      "outputs": [
        {
          "output_type": "stream",
          "name": "stdout",
          "text": [
            "m1=\n",
            " [[[ 0  1  2  3  4]\n",
            "  [ 5  6  7  8  9]\n",
            "  [10 11 12 13 14]\n",
            "  [15 16 17 18 19]]\n",
            "\n",
            " [[20 21 22 23 24]\n",
            "  [25 26 27 28 29]\n",
            "  [30 31 32 33 34]\n",
            "  [35 36 37 38 39]]\n",
            "\n",
            " [[40 41 42 43 44]\n",
            "  [45 46 47 48 49]\n",
            "  [50 51 52 53 54]\n",
            "  [55 56 57 58 59]]]\n",
            "m2=\n",
            " [[ 0  1  2  3  4]\n",
            " [ 5  6  7  8  9]\n",
            " [10 11 12 13 14]\n",
            " [15 16 17 18 19]]\n",
            "m1-m2=\n",
            " [[[ 0  0  0  0  0]\n",
            "  [ 0  0  0  0  0]\n",
            "  [ 0  0  0  0  0]\n",
            "  [ 0  0  0  0  0]]\n",
            "\n",
            " [[20 20 20 20 20]\n",
            "  [20 20 20 20 20]\n",
            "  [20 20 20 20 20]\n",
            "  [20 20 20 20 20]]\n",
            "\n",
            " [[40 40 40 40 40]\n",
            "  [40 40 40 40 40]\n",
            "  [40 40 40 40 40]\n",
            "  [40 40 40 40 40]]]\n"
          ]
        }
      ]
    },
    {
      "cell_type": "markdown",
      "metadata": {
        "id": "yMYoEB8FlA5P"
      },
      "source": [
        "###m1 3x4x5 e m3 1x4x5:    \n"
      ]
    },
    {
      "cell_type": "code",
      "metadata": {
        "colab": {
          "base_uri": "https://localhost:8080/",
          "height": 819
        },
        "id": "8lU87DQDgq0F",
        "outputId": "8c88c3aa-8bb2-4e0b-f02e-e9c3583751ed"
      },
      "source": [
        "import numpy as np\n",
        "m1=np.arange(60).reshape(3,4,5)\n",
        "print('m1=\\n',m1)\n",
        "m3=np.arange(20).reshape(1,4,5)\n",
        "print('m3=\\n',m3)\n",
        "print('m1-m3=\\n',m1-m3)\n",
        "print('m2==m3\\n',m2==m3)"
      ],
      "execution_count": null,
      "outputs": [
        {
          "output_type": "stream",
          "name": "stdout",
          "text": [
            "m1=\n",
            " [[[ 0  1  2  3  4]\n",
            "  [ 5  6  7  8  9]\n",
            "  [10 11 12 13 14]\n",
            "  [15 16 17 18 19]]\n",
            "\n",
            " [[20 21 22 23 24]\n",
            "  [25 26 27 28 29]\n",
            "  [30 31 32 33 34]\n",
            "  [35 36 37 38 39]]\n",
            "\n",
            " [[40 41 42 43 44]\n",
            "  [45 46 47 48 49]\n",
            "  [50 51 52 53 54]\n",
            "  [55 56 57 58 59]]]\n",
            "m3=\n",
            " [[[ 0  1  2  3  4]\n",
            "  [ 5  6  7  8  9]\n",
            "  [10 11 12 13 14]\n",
            "  [15 16 17 18 19]]]\n",
            "m1-m3=\n",
            " [[[ 0  0  0  0  0]\n",
            "  [ 0  0  0  0  0]\n",
            "  [ 0  0  0  0  0]\n",
            "  [ 0  0  0  0  0]]\n",
            "\n",
            " [[20 20 20 20 20]\n",
            "  [20 20 20 20 20]\n",
            "  [20 20 20 20 20]\n",
            "  [20 20 20 20 20]]\n",
            "\n",
            " [[40 40 40 40 40]\n",
            "  [40 40 40 40 40]\n",
            "  [40 40 40 40 40]\n",
            "  [40 40 40 40 40]]]\n"
          ]
        },
        {
          "output_type": "error",
          "ename": "NameError",
          "evalue": "ignored",
          "traceback": [
            "\u001b[0;31m---------------------------------------------------------------------------\u001b[0m",
            "\u001b[0;31mNameError\u001b[0m                                 Traceback (most recent call last)",
            "\u001b[0;32m<ipython-input-1-3bc4a4363169>\u001b[0m in \u001b[0;36m<module>\u001b[0;34m()\u001b[0m\n\u001b[1;32m      5\u001b[0m \u001b[0mprint\u001b[0m\u001b[0;34m(\u001b[0m\u001b[0;34m'm3=\\n'\u001b[0m\u001b[0;34m,\u001b[0m\u001b[0mm3\u001b[0m\u001b[0;34m)\u001b[0m\u001b[0;34m\u001b[0m\u001b[0;34m\u001b[0m\u001b[0m\n\u001b[1;32m      6\u001b[0m \u001b[0mprint\u001b[0m\u001b[0;34m(\u001b[0m\u001b[0;34m'm1-m3=\\n'\u001b[0m\u001b[0;34m,\u001b[0m\u001b[0mm1\u001b[0m\u001b[0;34m-\u001b[0m\u001b[0mm3\u001b[0m\u001b[0;34m)\u001b[0m\u001b[0;34m\u001b[0m\u001b[0;34m\u001b[0m\u001b[0m\n\u001b[0;32m----> 7\u001b[0;31m \u001b[0mprint\u001b[0m\u001b[0;34m(\u001b[0m\u001b[0;34m'm2==m3\\n'\u001b[0m\u001b[0;34m,\u001b[0m\u001b[0mm2\u001b[0m\u001b[0;34m==\u001b[0m\u001b[0mm3\u001b[0m\u001b[0;34m)\u001b[0m\u001b[0;34m\u001b[0m\u001b[0;34m\u001b[0m\u001b[0m\n\u001b[0m",
            "\u001b[0;31mNameError\u001b[0m: name 'm2' is not defined"
          ]
        }
      ]
    },
    {
      "cell_type": "markdown",
      "metadata": {
        "id": "a3cNYbYalF2G"
      },
      "source": [
        "###m1 3x4x5 e m4 3x4x1:    \n"
      ]
    },
    {
      "cell_type": "code",
      "metadata": {
        "colab": {
          "base_uri": "https://localhost:8080/"
        },
        "id": "u06OfD21hLfK",
        "outputId": "33e0a544-c4d2-4d62-c58a-6a6cc860bf9d"
      },
      "source": [
        "import numpy as np\n",
        "m1=np.arange(60).reshape(3,4,5) #3*4*5=60\n",
        "print('m1=\\n',m1)\n",
        "m4=np.arange(12).reshape(3,4,1) #3*4*1=12\n",
        "print('m4=\\n',m4)\n",
        "print('m1-m4=\\n',m1-m4)"
      ],
      "execution_count": null,
      "outputs": [
        {
          "output_type": "stream",
          "name": "stdout",
          "text": [
            "m1=\n",
            " [[[ 0  1  2  3  4]\n",
            "  [ 5  6  7  8  9]\n",
            "  [10 11 12 13 14]\n",
            "  [15 16 17 18 19]]\n",
            "\n",
            " [[20 21 22 23 24]\n",
            "  [25 26 27 28 29]\n",
            "  [30 31 32 33 34]\n",
            "  [35 36 37 38 39]]\n",
            "\n",
            " [[40 41 42 43 44]\n",
            "  [45 46 47 48 49]\n",
            "  [50 51 52 53 54]\n",
            "  [55 56 57 58 59]]]\n",
            "m4=\n",
            " [[[ 0]\n",
            "  [ 1]\n",
            "  [ 2]\n",
            "  [ 3]]\n",
            "\n",
            " [[ 4]\n",
            "  [ 5]\n",
            "  [ 6]\n",
            "  [ 7]]\n",
            "\n",
            " [[ 8]\n",
            "  [ 9]\n",
            "  [10]\n",
            "  [11]]]\n",
            "m1-m4=\n",
            " [[[ 0  1  2  3  4]\n",
            "  [ 4  5  6  7  8]\n",
            "  [ 8  9 10 11 12]\n",
            "  [12 13 14 15 16]]\n",
            "\n",
            " [[16 17 18 19 20]\n",
            "  [20 21 22 23 24]\n",
            "  [24 25 26 27 28]\n",
            "  [28 29 30 31 32]]\n",
            "\n",
            " [[32 33 34 35 36]\n",
            "  [36 37 38 39 40]\n",
            "  [40 41 42 43 44]\n",
            "  [44 45 46 47 48]]]\n"
          ]
        }
      ]
    },
    {
      "cell_type": "markdown",
      "metadata": {
        "id": "FQTKYUNvlK3P"
      },
      "source": [
        "###m1 3x4x5 e m5 3x1x5:    \n"
      ]
    },
    {
      "cell_type": "code",
      "metadata": {
        "colab": {
          "base_uri": "https://localhost:8080/"
        },
        "id": "cKewBvkahepY",
        "outputId": "16102573-1f7d-4586-c915-8b59fd702e08"
      },
      "source": [
        "import numpy as np\n",
        "m1=np.arange(60).reshape(3,4,5) #3*4*5=60\n",
        "print('m1=\\n',m1)\n",
        "m5=np.arange(15).reshape(3,1,5) #3*1*5=15\n",
        "print('m5=\\n',m5)\n",
        "print('m1-m5=\\n',m1-m5)"
      ],
      "execution_count": null,
      "outputs": [
        {
          "output_type": "stream",
          "name": "stdout",
          "text": [
            "m1=\n",
            " [[[ 0  1  2  3  4]\n",
            "  [ 5  6  7  8  9]\n",
            "  [10 11 12 13 14]\n",
            "  [15 16 17 18 19]]\n",
            "\n",
            " [[20 21 22 23 24]\n",
            "  [25 26 27 28 29]\n",
            "  [30 31 32 33 34]\n",
            "  [35 36 37 38 39]]\n",
            "\n",
            " [[40 41 42 43 44]\n",
            "  [45 46 47 48 49]\n",
            "  [50 51 52 53 54]\n",
            "  [55 56 57 58 59]]]\n",
            "m5=\n",
            " [[[ 0  1  2  3  4]]\n",
            "\n",
            " [[ 5  6  7  8  9]]\n",
            "\n",
            " [[10 11 12 13 14]]]\n",
            "m1-m5=\n",
            " [[[ 0  0  0  0  0]\n",
            "  [ 5  5  5  5  5]\n",
            "  [10 10 10 10 10]\n",
            "  [15 15 15 15 15]]\n",
            "\n",
            " [[15 15 15 15 15]\n",
            "  [20 20 20 20 20]\n",
            "  [25 25 25 25 25]\n",
            "  [30 30 30 30 30]]\n",
            "\n",
            " [[30 30 30 30 30]\n",
            "  [35 35 35 35 35]\n",
            "  [40 40 40 40 40]\n",
            "  [45 45 45 45 45]]]\n"
          ]
        }
      ]
    },
    {
      "cell_type": "markdown",
      "metadata": {
        "id": "Mt8mCpHljAQ0"
      },
      "source": [
        "##Compatibilidade no *broadcasting* de atribuições\n",
        "\n",
        "A mesma regra de compatibilidade se aplica se queremos mudar o valor de uma matriz original a partir dos valores de uma matriz compatível.\n",
        "\n",
        "Retomemos nosso exemplo, para m1 em dimensãoes 3x4x5 e compatíveis:    \n",
        "     \n",
        "* m2 4x5\n",
        "* m3 1x4x5\n",
        "* m4 3x4x1\n",
        "* m5 3x1x5"
      ]
    },
    {
      "cell_type": "markdown",
      "metadata": {
        "id": "w_H5eOiBkthf"
      },
      "source": [
        "###m1 3x4x5 e m2 4x5:    \n"
      ]
    },
    {
      "cell_type": "code",
      "metadata": {
        "colab": {
          "base_uri": "https://localhost:8080/"
        },
        "id": "BupOEChPjlZv",
        "outputId": "fff6af60-2705-40cd-a9cd-4501047083f8"
      },
      "source": [
        "import numpy as np\n",
        "m1=np.arange(60).reshape(3,4,5)\n",
        "print('m1=\\n',m1)\n",
        "m2=np.arange(100,120).reshape(4,5) #20 valores pois 4*5=20\n",
        "print('m2=\\n',m2)\n",
        "m1[:]=m2\n",
        "print('m1[:]=m2\\n',m1)"
      ],
      "execution_count": null,
      "outputs": [
        {
          "output_type": "stream",
          "name": "stdout",
          "text": [
            "m1=\n",
            " [[[ 0  1  2  3  4]\n",
            "  [ 5  6  7  8  9]\n",
            "  [10 11 12 13 14]\n",
            "  [15 16 17 18 19]]\n",
            "\n",
            " [[20 21 22 23 24]\n",
            "  [25 26 27 28 29]\n",
            "  [30 31 32 33 34]\n",
            "  [35 36 37 38 39]]\n",
            "\n",
            " [[40 41 42 43 44]\n",
            "  [45 46 47 48 49]\n",
            "  [50 51 52 53 54]\n",
            "  [55 56 57 58 59]]]\n",
            "m2=\n",
            " [[100 101 102 103 104]\n",
            " [105 106 107 108 109]\n",
            " [110 111 112 113 114]\n",
            " [115 116 117 118 119]]\n",
            "m1[:]=m2\n",
            " [[[100 101 102 103 104]\n",
            "  [105 106 107 108 109]\n",
            "  [110 111 112 113 114]\n",
            "  [115 116 117 118 119]]\n",
            "\n",
            " [[100 101 102 103 104]\n",
            "  [105 106 107 108 109]\n",
            "  [110 111 112 113 114]\n",
            "  [115 116 117 118 119]]\n",
            "\n",
            " [[100 101 102 103 104]\n",
            "  [105 106 107 108 109]\n",
            "  [110 111 112 113 114]\n",
            "  [115 116 117 118 119]]]\n"
          ]
        }
      ]
    },
    {
      "cell_type": "markdown",
      "metadata": {
        "id": "gvM5dNe6k06R"
      },
      "source": [
        "###m1 3x4x5 e m3 1x4x5:    \n"
      ]
    },
    {
      "cell_type": "code",
      "metadata": {
        "colab": {
          "base_uri": "https://localhost:8080/"
        },
        "id": "YONtee35ke-l",
        "outputId": "ce6dfba7-76b8-4ead-df60-0359c8aa9157"
      },
      "source": [
        "import numpy as np\n",
        "m1=np.arange(60).reshape(3,4,5)\n",
        "print('m1=\\n',m1)\n",
        "m3=np.arange(100,120).reshape(1,4,5)\n",
        "print('m3=\\n',m3)\n",
        "m1[:]=m3\n",
        "print('m1[:]=m3\\n',m1)\n",
        "print('m2==m3\\n',m2==m3)"
      ],
      "execution_count": null,
      "outputs": [
        {
          "output_type": "stream",
          "name": "stdout",
          "text": [
            "m1=\n",
            " [[[ 0  1  2  3  4]\n",
            "  [ 5  6  7  8  9]\n",
            "  [10 11 12 13 14]\n",
            "  [15 16 17 18 19]]\n",
            "\n",
            " [[20 21 22 23 24]\n",
            "  [25 26 27 28 29]\n",
            "  [30 31 32 33 34]\n",
            "  [35 36 37 38 39]]\n",
            "\n",
            " [[40 41 42 43 44]\n",
            "  [45 46 47 48 49]\n",
            "  [50 51 52 53 54]\n",
            "  [55 56 57 58 59]]]\n",
            "m3=\n",
            " [[[100 101 102 103 104]\n",
            "  [105 106 107 108 109]\n",
            "  [110 111 112 113 114]\n",
            "  [115 116 117 118 119]]]\n",
            "m1[:]=m3\n",
            " [[[100 101 102 103 104]\n",
            "  [105 106 107 108 109]\n",
            "  [110 111 112 113 114]\n",
            "  [115 116 117 118 119]]\n",
            "\n",
            " [[100 101 102 103 104]\n",
            "  [105 106 107 108 109]\n",
            "  [110 111 112 113 114]\n",
            "  [115 116 117 118 119]]\n",
            "\n",
            " [[100 101 102 103 104]\n",
            "  [105 106 107 108 109]\n",
            "  [110 111 112 113 114]\n",
            "  [115 116 117 118 119]]]\n",
            "m2==m3\n",
            " [[[ True  True  True  True  True]\n",
            "  [ True  True  True  True  True]\n",
            "  [ True  True  True  True  True]\n",
            "  [ True  True  True  True  True]]]\n"
          ]
        }
      ]
    },
    {
      "cell_type": "markdown",
      "metadata": {
        "id": "gIYMgNkHlTsy"
      },
      "source": [
        "###m1 3x4x5 e m4 3x4x1:    \n"
      ]
    },
    {
      "cell_type": "code",
      "metadata": {
        "id": "4sPUPerAld_c"
      },
      "source": [
        ""
      ],
      "execution_count": null,
      "outputs": []
    },
    {
      "cell_type": "code",
      "metadata": {
        "colab": {
          "base_uri": "https://localhost:8080/"
        },
        "id": "C46CPO64leY9",
        "outputId": "21a7448d-47a3-434f-adb2-54b14b44642a"
      },
      "source": [
        "import numpy as np\n",
        "m1=np.arange(60).reshape(3,4,5)\n",
        "print('m1=\\n',m1)\n",
        "m4=np.arange(100,112).reshape(3,4,1)\n",
        "print('m4=\\n',m4)\n",
        "m1[:]=m4\n",
        "print('m1[:]=m4\\n',m1)"
      ],
      "execution_count": null,
      "outputs": [
        {
          "output_type": "stream",
          "name": "stdout",
          "text": [
            "m1=\n",
            " [[[ 0  1  2  3  4]\n",
            "  [ 5  6  7  8  9]\n",
            "  [10 11 12 13 14]\n",
            "  [15 16 17 18 19]]\n",
            "\n",
            " [[20 21 22 23 24]\n",
            "  [25 26 27 28 29]\n",
            "  [30 31 32 33 34]\n",
            "  [35 36 37 38 39]]\n",
            "\n",
            " [[40 41 42 43 44]\n",
            "  [45 46 47 48 49]\n",
            "  [50 51 52 53 54]\n",
            "  [55 56 57 58 59]]]\n",
            "m4=\n",
            " [[[100]\n",
            "  [101]\n",
            "  [102]\n",
            "  [103]]\n",
            "\n",
            " [[104]\n",
            "  [105]\n",
            "  [106]\n",
            "  [107]]\n",
            "\n",
            " [[108]\n",
            "  [109]\n",
            "  [110]\n",
            "  [111]]]\n",
            "m1[:]=m4\n",
            " [[[100 100 100 100 100]\n",
            "  [101 101 101 101 101]\n",
            "  [102 102 102 102 102]\n",
            "  [103 103 103 103 103]]\n",
            "\n",
            " [[104 104 104 104 104]\n",
            "  [105 105 105 105 105]\n",
            "  [106 106 106 106 106]\n",
            "  [107 107 107 107 107]]\n",
            "\n",
            " [[108 108 108 108 108]\n",
            "  [109 109 109 109 109]\n",
            "  [110 110 110 110 110]\n",
            "  [111 111 111 111 111]]]\n"
          ]
        }
      ]
    },
    {
      "cell_type": "markdown",
      "metadata": {
        "id": "r-6y3RAJlvsI"
      },
      "source": [
        "###m1 3x4x5 e m5 3x1x5:    \n"
      ]
    },
    {
      "cell_type": "code",
      "metadata": {
        "colab": {
          "base_uri": "https://localhost:8080/"
        },
        "id": "yafp40EQmKKE",
        "outputId": "156ee880-29e0-4696-9a65-ae8411ae6a80"
      },
      "source": [
        "import numpy as np\n",
        "m1=np.arange(60).reshape(3,4,5)\n",
        "print('m1=\\n',m1)\n",
        "m5=np.arange(100,115).reshape(3,1,5)\n",
        "m1[:]=m5\n",
        "print('m5=\\n',m5)\n",
        "print('m1[:]=m5\\n',m1)\n",
        "\n",
        "m6=m5.reshape(5,3)\n",
        "print(\"m6=\\n\",m6)\n",
        "\n",
        "m7=m1.reshape(2,3,2,5)\n",
        "print(\"m7=\\n\",m7)"
      ],
      "execution_count": null,
      "outputs": [
        {
          "output_type": "stream",
          "name": "stdout",
          "text": [
            "m1=\n",
            " [[[ 0  1  2  3  4]\n",
            "  [ 5  6  7  8  9]\n",
            "  [10 11 12 13 14]\n",
            "  [15 16 17 18 19]]\n",
            "\n",
            " [[20 21 22 23 24]\n",
            "  [25 26 27 28 29]\n",
            "  [30 31 32 33 34]\n",
            "  [35 36 37 38 39]]\n",
            "\n",
            " [[40 41 42 43 44]\n",
            "  [45 46 47 48 49]\n",
            "  [50 51 52 53 54]\n",
            "  [55 56 57 58 59]]]\n",
            "m5=\n",
            " [[[100 101 102 103 104]]\n",
            "\n",
            " [[105 106 107 108 109]]\n",
            "\n",
            " [[110 111 112 113 114]]]\n",
            "m1[:]=m5\n",
            " [[[100 101 102 103 104]\n",
            "  [100 101 102 103 104]\n",
            "  [100 101 102 103 104]\n",
            "  [100 101 102 103 104]]\n",
            "\n",
            " [[105 106 107 108 109]\n",
            "  [105 106 107 108 109]\n",
            "  [105 106 107 108 109]\n",
            "  [105 106 107 108 109]]\n",
            "\n",
            " [[110 111 112 113 114]\n",
            "  [110 111 112 113 114]\n",
            "  [110 111 112 113 114]\n",
            "  [110 111 112 113 114]]]\n",
            "m6=\n",
            " [[100 101 102]\n",
            " [103 104 105]\n",
            " [106 107 108]\n",
            " [109 110 111]\n",
            " [112 113 114]]\n",
            "m7=\n",
            " [[[[100 101 102 103 104]\n",
            "   [100 101 102 103 104]]\n",
            "\n",
            "  [[100 101 102 103 104]\n",
            "   [100 101 102 103 104]]\n",
            "\n",
            "  [[105 106 107 108 109]\n",
            "   [105 106 107 108 109]]]\n",
            "\n",
            "\n",
            " [[[105 106 107 108 109]\n",
            "   [105 106 107 108 109]]\n",
            "\n",
            "  [[110 111 112 113 114]\n",
            "   [110 111 112 113 114]]\n",
            "\n",
            "  [[110 111 112 113 114]\n",
            "   [110 111 112 113 114]]]]\n"
          ]
        }
      ]
    }
  ]
}